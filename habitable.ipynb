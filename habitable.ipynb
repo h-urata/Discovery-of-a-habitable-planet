{
  "cells": [
    {
      "cell_type": "code",
      "execution_count": 172,
      "metadata": {
        "id": "ISvhK6jVofj1"
      },
      "outputs": [],
      "source": [
        "import pandas as pd"
      ]
    },
    {
      "cell_type": "code",
      "execution_count": 173,
      "metadata": {
        "colab": {
          "base_uri": "https://localhost:8080/"
        },
        "id": "aP2Vk-2u02nm",
        "outputId": "b2c67a93-3767-4ed7-e7e4-c2fe01486766"
      },
      "outputs": [
        {
          "data": {
            "text/plain": [
              "(34030, 82)"
            ]
          },
          "execution_count": 173,
          "metadata": {},
          "output_type": "execute_result"
        }
      ],
      "source": [
        "df = pd.read_csv('PS_2023.03.07_18.13.34.csv', skiprows=86)\n",
        "df.shape"
      ]
    },
    {
      "cell_type": "code",
      "execution_count": 174,
      "metadata": {
        "colab": {
          "base_uri": "https://localhost:8080/",
          "height": 386
        },
        "id": "mgMmsPdp1EGu",
        "outputId": "9636ab71-1a41-4306-c160-08c61c237c0e"
      },
      "outputs": [
        {
          "data": {
            "text/html": [
              "\n",
              "  <div id=\"df-2afb59f1-ab0a-4130-8acf-fb01d27ab10c\">\n",
              "    <div class=\"colab-df-container\">\n",
              "      <div>\n",
              "<style scoped>\n",
              "    .dataframe tbody tr th:only-of-type {\n",
              "        vertical-align: middle;\n",
              "    }\n",
              "\n",
              "    .dataframe tbody tr th {\n",
              "        vertical-align: top;\n",
              "    }\n",
              "\n",
              "    .dataframe thead th {\n",
              "        text-align: right;\n",
              "    }\n",
              "</style>\n",
              "<table border=\"1\" class=\"dataframe\">\n",
              "  <thead>\n",
              "    <tr style=\"text-align: right;\">\n",
              "      <th></th>\n",
              "      <th>pl_name</th>\n",
              "      <th>hostname</th>\n",
              "      <th>default_flag</th>\n",
              "      <th>sy_snum</th>\n",
              "      <th>sy_pnum</th>\n",
              "      <th>pl_controv_flag</th>\n",
              "      <th>pl_orbper</th>\n",
              "      <th>pl_orbpererr1</th>\n",
              "      <th>pl_orbpererr2</th>\n",
              "      <th>pl_orbperlim</th>\n",
              "      <th>...</th>\n",
              "      <th>sy_disterr2</th>\n",
              "      <th>sy_vmag</th>\n",
              "      <th>sy_vmagerr1</th>\n",
              "      <th>sy_vmagerr2</th>\n",
              "      <th>sy_kmag</th>\n",
              "      <th>sy_kmagerr1</th>\n",
              "      <th>sy_kmagerr2</th>\n",
              "      <th>sy_gaiamag</th>\n",
              "      <th>sy_gaiamagerr1</th>\n",
              "      <th>sy_gaiamagerr2</th>\n",
              "    </tr>\n",
              "  </thead>\n",
              "  <tbody>\n",
              "    <tr>\n",
              "      <th>0</th>\n",
              "      <td>11 Com b</td>\n",
              "      <td>11 Com</td>\n",
              "      <td>1</td>\n",
              "      <td>2</td>\n",
              "      <td>1</td>\n",
              "      <td>0</td>\n",
              "      <td>326.03000</td>\n",
              "      <td>0.32</td>\n",
              "      <td>-0.32</td>\n",
              "      <td>0.0</td>\n",
              "      <td>...</td>\n",
              "      <td>-1.9238</td>\n",
              "      <td>4.72307</td>\n",
              "      <td>0.023</td>\n",
              "      <td>-0.023</td>\n",
              "      <td>2.282</td>\n",
              "      <td>0.346</td>\n",
              "      <td>-0.346</td>\n",
              "      <td>4.44038</td>\n",
              "      <td>0.003848</td>\n",
              "      <td>-0.003848</td>\n",
              "    </tr>\n",
              "    <tr>\n",
              "      <th>1</th>\n",
              "      <td>11 Com b</td>\n",
              "      <td>11 Com</td>\n",
              "      <td>0</td>\n",
              "      <td>2</td>\n",
              "      <td>1</td>\n",
              "      <td>0</td>\n",
              "      <td>NaN</td>\n",
              "      <td>NaN</td>\n",
              "      <td>NaN</td>\n",
              "      <td>NaN</td>\n",
              "      <td>...</td>\n",
              "      <td>-1.9238</td>\n",
              "      <td>4.72307</td>\n",
              "      <td>0.023</td>\n",
              "      <td>-0.023</td>\n",
              "      <td>2.282</td>\n",
              "      <td>0.346</td>\n",
              "      <td>-0.346</td>\n",
              "      <td>4.44038</td>\n",
              "      <td>0.003848</td>\n",
              "      <td>-0.003848</td>\n",
              "    </tr>\n",
              "    <tr>\n",
              "      <th>2</th>\n",
              "      <td>11 UMi b</td>\n",
              "      <td>11 UMi</td>\n",
              "      <td>0</td>\n",
              "      <td>1</td>\n",
              "      <td>1</td>\n",
              "      <td>0</td>\n",
              "      <td>516.22000</td>\n",
              "      <td>3.25</td>\n",
              "      <td>-3.25</td>\n",
              "      <td>0.0</td>\n",
              "      <td>...</td>\n",
              "      <td>-1.9765</td>\n",
              "      <td>5.01300</td>\n",
              "      <td>0.005</td>\n",
              "      <td>-0.005</td>\n",
              "      <td>1.939</td>\n",
              "      <td>0.270</td>\n",
              "      <td>-0.270</td>\n",
              "      <td>4.56216</td>\n",
              "      <td>0.003903</td>\n",
              "      <td>-0.003903</td>\n",
              "    </tr>\n",
              "    <tr>\n",
              "      <th>3</th>\n",
              "      <td>11 UMi b</td>\n",
              "      <td>11 UMi</td>\n",
              "      <td>0</td>\n",
              "      <td>1</td>\n",
              "      <td>1</td>\n",
              "      <td>0</td>\n",
              "      <td>NaN</td>\n",
              "      <td>NaN</td>\n",
              "      <td>NaN</td>\n",
              "      <td>NaN</td>\n",
              "      <td>...</td>\n",
              "      <td>-1.9765</td>\n",
              "      <td>5.01300</td>\n",
              "      <td>0.005</td>\n",
              "      <td>-0.005</td>\n",
              "      <td>1.939</td>\n",
              "      <td>0.270</td>\n",
              "      <td>-0.270</td>\n",
              "      <td>4.56216</td>\n",
              "      <td>0.003903</td>\n",
              "      <td>-0.003903</td>\n",
              "    </tr>\n",
              "    <tr>\n",
              "      <th>4</th>\n",
              "      <td>11 UMi b</td>\n",
              "      <td>11 UMi</td>\n",
              "      <td>1</td>\n",
              "      <td>1</td>\n",
              "      <td>1</td>\n",
              "      <td>0</td>\n",
              "      <td>516.21997</td>\n",
              "      <td>3.20</td>\n",
              "      <td>-3.20</td>\n",
              "      <td>0.0</td>\n",
              "      <td>...</td>\n",
              "      <td>-1.9765</td>\n",
              "      <td>5.01300</td>\n",
              "      <td>0.005</td>\n",
              "      <td>-0.005</td>\n",
              "      <td>1.939</td>\n",
              "      <td>0.270</td>\n",
              "      <td>-0.270</td>\n",
              "      <td>4.56216</td>\n",
              "      <td>0.003903</td>\n",
              "      <td>-0.003903</td>\n",
              "    </tr>\n",
              "  </tbody>\n",
              "</table>\n",
              "<p>5 rows × 82 columns</p>\n",
              "</div>\n",
              "      <button class=\"colab-df-convert\" onclick=\"convertToInteractive('df-2afb59f1-ab0a-4130-8acf-fb01d27ab10c')\"\n",
              "              title=\"Convert this dataframe to an interactive table.\"\n",
              "              style=\"display:none;\">\n",
              "        \n",
              "  <svg xmlns=\"http://www.w3.org/2000/svg\" height=\"24px\"viewBox=\"0 0 24 24\"\n",
              "       width=\"24px\">\n",
              "    <path d=\"M0 0h24v24H0V0z\" fill=\"none\"/>\n",
              "    <path d=\"M18.56 5.44l.94 2.06.94-2.06 2.06-.94-2.06-.94-.94-2.06-.94 2.06-2.06.94zm-11 1L8.5 8.5l.94-2.06 2.06-.94-2.06-.94L8.5 2.5l-.94 2.06-2.06.94zm10 10l.94 2.06.94-2.06 2.06-.94-2.06-.94-.94-2.06-.94 2.06-2.06.94z\"/><path d=\"M17.41 7.96l-1.37-1.37c-.4-.4-.92-.59-1.43-.59-.52 0-1.04.2-1.43.59L10.3 9.45l-7.72 7.72c-.78.78-.78 2.05 0 2.83L4 21.41c.39.39.9.59 1.41.59.51 0 1.02-.2 1.41-.59l7.78-7.78 2.81-2.81c.8-.78.8-2.07 0-2.86zM5.41 20L4 18.59l7.72-7.72 1.47 1.35L5.41 20z\"/>\n",
              "  </svg>\n",
              "      </button>\n",
              "      \n",
              "  <style>\n",
              "    .colab-df-container {\n",
              "      display:flex;\n",
              "      flex-wrap:wrap;\n",
              "      gap: 12px;\n",
              "    }\n",
              "\n",
              "    .colab-df-convert {\n",
              "      background-color: #E8F0FE;\n",
              "      border: none;\n",
              "      border-radius: 50%;\n",
              "      cursor: pointer;\n",
              "      display: none;\n",
              "      fill: #1967D2;\n",
              "      height: 32px;\n",
              "      padding: 0 0 0 0;\n",
              "      width: 32px;\n",
              "    }\n",
              "\n",
              "    .colab-df-convert:hover {\n",
              "      background-color: #E2EBFA;\n",
              "      box-shadow: 0px 1px 2px rgba(60, 64, 67, 0.3), 0px 1px 3px 1px rgba(60, 64, 67, 0.15);\n",
              "      fill: #174EA6;\n",
              "    }\n",
              "\n",
              "    [theme=dark] .colab-df-convert {\n",
              "      background-color: #3B4455;\n",
              "      fill: #D2E3FC;\n",
              "    }\n",
              "\n",
              "    [theme=dark] .colab-df-convert:hover {\n",
              "      background-color: #434B5C;\n",
              "      box-shadow: 0px 1px 3px 1px rgba(0, 0, 0, 0.15);\n",
              "      filter: drop-shadow(0px 1px 2px rgba(0, 0, 0, 0.3));\n",
              "      fill: #FFFFFF;\n",
              "    }\n",
              "  </style>\n",
              "\n",
              "      <script>\n",
              "        const buttonEl =\n",
              "          document.querySelector('#df-2afb59f1-ab0a-4130-8acf-fb01d27ab10c button.colab-df-convert');\n",
              "        buttonEl.style.display =\n",
              "          google.colab.kernel.accessAllowed ? 'block' : 'none';\n",
              "\n",
              "        async function convertToInteractive(key) {\n",
              "          const element = document.querySelector('#df-2afb59f1-ab0a-4130-8acf-fb01d27ab10c');\n",
              "          const dataTable =\n",
              "            await google.colab.kernel.invokeFunction('convertToInteractive',\n",
              "                                                     [key], {});\n",
              "          if (!dataTable) return;\n",
              "\n",
              "          const docLinkHtml = 'Like what you see? Visit the ' +\n",
              "            '<a target=\"_blank\" href=https://colab.research.google.com/notebooks/data_table.ipynb>data table notebook</a>'\n",
              "            + ' to learn more about interactive tables.';\n",
              "          element.innerHTML = '';\n",
              "          dataTable['output_type'] = 'display_data';\n",
              "          await google.colab.output.renderOutput(dataTable, element);\n",
              "          const docLink = document.createElement('div');\n",
              "          docLink.innerHTML = docLinkHtml;\n",
              "          element.appendChild(docLink);\n",
              "        }\n",
              "      </script>\n",
              "    </div>\n",
              "  </div>\n",
              "  "
            ],
            "text/plain": [
              "    pl_name hostname  default_flag  sy_snum  sy_pnum  pl_controv_flag  \\\n",
              "0  11 Com b   11 Com             1        2        1                0   \n",
              "1  11 Com b   11 Com             0        2        1                0   \n",
              "2  11 UMi b   11 UMi             0        1        1                0   \n",
              "3  11 UMi b   11 UMi             0        1        1                0   \n",
              "4  11 UMi b   11 UMi             1        1        1                0   \n",
              "\n",
              "   pl_orbper  pl_orbpererr1  pl_orbpererr2  pl_orbperlim  ...  sy_disterr2  \\\n",
              "0  326.03000           0.32          -0.32           0.0  ...      -1.9238   \n",
              "1        NaN            NaN            NaN           NaN  ...      -1.9238   \n",
              "2  516.22000           3.25          -3.25           0.0  ...      -1.9765   \n",
              "3        NaN            NaN            NaN           NaN  ...      -1.9765   \n",
              "4  516.21997           3.20          -3.20           0.0  ...      -1.9765   \n",
              "\n",
              "   sy_vmag  sy_vmagerr1  sy_vmagerr2  sy_kmag  sy_kmagerr1  sy_kmagerr2  \\\n",
              "0  4.72307        0.023       -0.023    2.282        0.346       -0.346   \n",
              "1  4.72307        0.023       -0.023    2.282        0.346       -0.346   \n",
              "2  5.01300        0.005       -0.005    1.939        0.270       -0.270   \n",
              "3  5.01300        0.005       -0.005    1.939        0.270       -0.270   \n",
              "4  5.01300        0.005       -0.005    1.939        0.270       -0.270   \n",
              "\n",
              "   sy_gaiamag  sy_gaiamagerr1  sy_gaiamagerr2  \n",
              "0     4.44038        0.003848       -0.003848  \n",
              "1     4.44038        0.003848       -0.003848  \n",
              "2     4.56216        0.003903       -0.003903  \n",
              "3     4.56216        0.003903       -0.003903  \n",
              "4     4.56216        0.003903       -0.003903  \n",
              "\n",
              "[5 rows x 82 columns]"
            ]
          },
          "execution_count": 174,
          "metadata": {},
          "output_type": "execute_result"
        }
      ],
      "source": [
        "df.head()"
      ]
    },
    {
      "cell_type": "code",
      "execution_count": 175,
      "metadata": {
        "colab": {
          "base_uri": "https://localhost:8080/"
        },
        "id": "aC1-aYQx3wIl",
        "outputId": "ac223598-a5e3-4197-9fb5-f5c059b63e5e"
      },
      "outputs": [
        {
          "name": "stdout",
          "output_type": "stream",
          "text": [
            "pl_name             0\n",
            "hostname            0\n",
            "default_flag        0\n",
            "sy_snum             0\n",
            "sy_pnum             0\n",
            "                 ... \n",
            "sy_kmagerr1       793\n",
            "sy_kmagerr2       793\n",
            "sy_gaiamag        856\n",
            "sy_gaiamagerr1    856\n",
            "sy_gaiamagerr2    856\n",
            "Length: 82, dtype: int64\n"
          ]
        }
      ],
      "source": [
        "print(df.isnull().sum())"
      ]
    },
    {
      "cell_type": "code",
      "execution_count": 176,
      "metadata": {
        "colab": {
          "base_uri": "https://localhost:8080/"
        },
        "id": "ZRdraIKV6oCp",
        "outputId": "bce1c7db-f1f6-43e5-9f0a-eed786346ee5"
      },
      "outputs": [
        {
          "data": {
            "text/plain": [
              "(60, 82)"
            ]
          },
          "execution_count": 176,
          "metadata": {},
          "output_type": "execute_result"
        }
      ],
      "source": [
        "df2 = df.dropna()\n",
        "df2.shape"
      ]
    },
    {
      "cell_type": "code",
      "execution_count": 177,
      "metadata": {
        "colab": {
          "base_uri": "https://localhost:8080/"
        },
        "id": "6TgTEXv1F2Pe",
        "outputId": "d3a072a0-501f-4ef1-d490-f331a4dd2295"
      },
      "outputs": [
        {
          "data": {
            "text/plain": [
              "pl_name                0\n",
              "hostname               0\n",
              "default_flag           0\n",
              "sy_snum                0\n",
              "sy_pnum                0\n",
              "pl_controv_flag        0\n",
              "pl_orbper           2979\n",
              "pl_orbpererr1       4236\n",
              "pl_orbpererr2       4237\n",
              "pl_orbperlim        2979\n",
              "pl_orbsmax         15360\n",
              "pl_orbsmaxerr1     29343\n",
              "pl_orbsmaxerr2     29344\n",
              "pl_orbsmaxlim      12654\n",
              "pl_rade            10566\n",
              "pl_radeerr1        11217\n",
              "pl_radeerr2        11217\n",
              "pl_radelim          7894\n",
              "pl_radj            23389\n",
              "pl_radjerr1        23996\n",
              "pl_radjerr2        23996\n",
              "pl_radjlim         23389\n",
              "pl_bmasse          28823\n",
              "pl_bmasseerr1      29271\n",
              "pl_bmasseerr2      29271\n",
              "pl_bmasselim       28823\n",
              "pl_bmassj          28824\n",
              "pl_bmassjerr1      29277\n",
              "pl_bmassjerr2      29277\n",
              "pl_bmassjlim       28824\n",
              "pl_bmassprov       28823\n",
              "pl_orbeccen        17060\n",
              "pl_orbeccenerr1    31176\n",
              "pl_orbeccenerr2    31177\n",
              "pl_orbeccenlim     14387\n",
              "pl_insol           19611\n",
              "pl_insolerr1       20446\n",
              "pl_insolerr2       20446\n",
              "pl_insollim        14672\n",
              "pl_eqt             18551\n",
              "pl_eqterr1         32383\n",
              "pl_eqterr2         32383\n",
              "pl_eqtlim          15879\n",
              "ttv_flag               0\n",
              "st_spectype        32018\n",
              "st_teff             2518\n",
              "st_tefferr1         3208\n",
              "st_tefferr2         3449\n",
              "st_tefflim          2518\n",
              "st_rad              2402\n",
              "dtype: int64"
            ]
          },
          "execution_count": 177,
          "metadata": {},
          "output_type": "execute_result"
        }
      ],
      "source": [
        "df3=df.iloc[:,0:50]\n",
        "df3.isnull().sum()"
      ]
    },
    {
      "cell_type": "code",
      "execution_count": 178,
      "metadata": {
        "colab": {
          "base_uri": "https://localhost:8080/"
        },
        "id": "vIwIxXnSGHyM",
        "outputId": "ca0694b0-f3cc-4fc3-e59c-9b5dce41fbc9"
      },
      "outputs": [
        {
          "data": {
            "text/plain": [
              "st_raderr2         7964\n",
              "st_radlim          2402\n",
              "st_mass            5326\n",
              "st_masserr1       10645\n",
              "st_masserr2       10784\n",
              "st_masslim         5326\n",
              "st_met            12653\n",
              "st_meterr1        13307\n",
              "st_meterr2        13307\n",
              "st_metlim         10381\n",
              "st_metratio       12842\n",
              "st_logg            6093\n",
              "st_loggerr1       11246\n",
              "st_loggerr2       11247\n",
              "st_logglim         6093\n",
              "rastr                 0\n",
              "ra                    0\n",
              "decstr                0\n",
              "dec                   0\n",
              "sy_dist             802\n",
              "sy_disterr1        1626\n",
              "sy_disterr2        1626\n",
              "sy_vmag             554\n",
              "sy_vmagerr1         567\n",
              "sy_vmagerr2         568\n",
              "sy_kmag             573\n",
              "sy_kmagerr1         793\n",
              "sy_kmagerr2         793\n",
              "sy_gaiamag          856\n",
              "sy_gaiamagerr1      856\n",
              "sy_gaiamagerr2      856\n",
              "dtype: int64"
            ]
          },
          "execution_count": 178,
          "metadata": {},
          "output_type": "execute_result"
        }
      ],
      "source": [
        "df3=df.iloc[:,51:83]\n",
        "df3.isnull().sum()"
      ]
    },
    {
      "cell_type": "code",
      "execution_count": 179,
      "metadata": {
        "id": "3q01SIA0Gzpm"
      },
      "outputs": [],
      "source": [
        "#欠損値が15000以上の列を削除"
      ]
    },
    {
      "cell_type": "code",
      "execution_count": 180,
      "metadata": {
        "id": "QdDQn4u4Hde4"
      },
      "outputs": [],
      "source": [
        "df3 = df.drop(columns=['pl_orbsmaxerr1', 'pl_orbsmaxerr2', 'pl_radj', 'pl_radjerr1', 'pl_radjerr2', 'pl_radjlim', 'pl_bmasse', 'pl_bmasseerr1', 'pl_bmasseerr2', 'pl_bmasselim', 'pl_bmassj', 'pl_bmassjerr1', 'pl_bmassjerr2', 'pl_bmassjlim', 'pl_bmassprov', 'pl_orbeccen', 'pl_orbeccenerr1', 'pl_orbeccenerr2', 'pl_insol', 'pl_insolerr1', 'pl_insolerr2', 'pl_eqt', 'pl_eqterr1', 'pl_eqterr2', 'st_spectype'])"
      ]
    },
    {
      "cell_type": "code",
      "execution_count": 181,
      "metadata": {
        "colab": {
          "base_uri": "https://localhost:8080/"
        },
        "id": "u6IN5e81L-VM",
        "outputId": "f6f607b5-9c21-4883-9293-46f22dfd1028"
      },
      "outputs": [
        {
          "name": "stdout",
          "output_type": "stream",
          "text": [
            "pl_name                0\n",
            "hostname               0\n",
            "default_flag           0\n",
            "sy_snum                0\n",
            "sy_pnum                0\n",
            "pl_controv_flag        0\n",
            "pl_orbper           2979\n",
            "pl_orbpererr1       4236\n",
            "pl_orbpererr2       4237\n",
            "pl_orbperlim        2979\n",
            "pl_orbsmax         15360\n",
            "pl_orbsmaxlim      12654\n",
            "pl_rade            10566\n",
            "pl_radeerr1        11217\n",
            "pl_radeerr2        11217\n",
            "pl_radelim          7894\n",
            "pl_orbeccenlim     14387\n",
            "pl_insollim        14672\n",
            "pl_eqtlim          15879\n",
            "ttv_flag               0\n",
            "st_teff             2518\n",
            "st_tefferr1         3208\n",
            "st_tefferr2         3449\n",
            "st_tefflim          2518\n",
            "st_rad              2402\n",
            "st_raderr1          7825\n",
            "st_raderr2          7964\n",
            "st_radlim           2402\n",
            "st_mass             5326\n",
            "st_masserr1        10645\n",
            "st_masserr2        10784\n",
            "st_masslim          5326\n",
            "st_met             12653\n",
            "st_meterr1         13307\n",
            "st_meterr2         13307\n",
            "st_metlim          10381\n",
            "st_metratio        12842\n",
            "st_logg             6093\n",
            "st_loggerr1        11246\n",
            "st_loggerr2        11247\n",
            "st_logglim          6093\n",
            "rastr                  0\n",
            "ra                     0\n",
            "decstr                 0\n",
            "dec                    0\n",
            "sy_dist              802\n",
            "sy_disterr1         1626\n",
            "sy_disterr2         1626\n",
            "sy_vmag              554\n",
            "sy_vmagerr1          567\n",
            "sy_vmagerr2          568\n",
            "sy_kmag              573\n",
            "sy_kmagerr1          793\n",
            "sy_kmagerr2          793\n",
            "sy_gaiamag           856\n",
            "sy_gaiamagerr1       856\n",
            "sy_gaiamagerr2       856\n",
            "dtype: int64\n"
          ]
        },
        {
          "data": {
            "text/plain": [
              "(34030, 57)"
            ]
          },
          "execution_count": 181,
          "metadata": {},
          "output_type": "execute_result"
        }
      ],
      "source": [
        "print(df3.isnull().sum())\n",
        "df3.shape"
      ]
    },
    {
      "cell_type": "code",
      "execution_count": 182,
      "metadata": {
        "colab": {
          "base_uri": "https://localhost:8080/",
          "height": 240
        },
        "id": "2ul62ymQPAbJ",
        "outputId": "c7fd35c7-bae5-4b07-a1c6-a3e75d156b50"
      },
      "outputs": [
        {
          "data": {
            "text/html": [
              "\n",
              "  <div id=\"df-c62d4064-89ce-4c5c-971b-148f1428af71\">\n",
              "    <div class=\"colab-df-container\">\n",
              "      <div>\n",
              "<style scoped>\n",
              "    .dataframe tbody tr th:only-of-type {\n",
              "        vertical-align: middle;\n",
              "    }\n",
              "\n",
              "    .dataframe tbody tr th {\n",
              "        vertical-align: top;\n",
              "    }\n",
              "\n",
              "    .dataframe thead th {\n",
              "        text-align: right;\n",
              "    }\n",
              "</style>\n",
              "<table border=\"1\" class=\"dataframe\">\n",
              "  <thead>\n",
              "    <tr style=\"text-align: right;\">\n",
              "      <th></th>\n",
              "      <th>pl_name</th>\n",
              "      <th>hostname</th>\n",
              "      <th>default_flag</th>\n",
              "      <th>sy_snum</th>\n",
              "      <th>sy_pnum</th>\n",
              "      <th>pl_controv_flag</th>\n",
              "      <th>pl_orbper</th>\n",
              "      <th>pl_orbpererr1</th>\n",
              "      <th>pl_orbpererr2</th>\n",
              "      <th>pl_orbperlim</th>\n",
              "      <th>...</th>\n",
              "      <th>sy_disterr2</th>\n",
              "      <th>sy_vmag</th>\n",
              "      <th>sy_vmagerr1</th>\n",
              "      <th>sy_vmagerr2</th>\n",
              "      <th>sy_kmag</th>\n",
              "      <th>sy_kmagerr1</th>\n",
              "      <th>sy_kmagerr2</th>\n",
              "      <th>sy_gaiamag</th>\n",
              "      <th>sy_gaiamagerr1</th>\n",
              "      <th>sy_gaiamagerr2</th>\n",
              "    </tr>\n",
              "  </thead>\n",
              "  <tbody>\n",
              "    <tr>\n",
              "      <th>0</th>\n",
              "      <td>11 Com b</td>\n",
              "      <td>11 Com</td>\n",
              "      <td>1</td>\n",
              "      <td>2</td>\n",
              "      <td>1</td>\n",
              "      <td>0</td>\n",
              "      <td>326.03</td>\n",
              "      <td>0.32</td>\n",
              "      <td>-0.32</td>\n",
              "      <td>0.0</td>\n",
              "      <td>...</td>\n",
              "      <td>-1.9238</td>\n",
              "      <td>4.72307</td>\n",
              "      <td>0.023</td>\n",
              "      <td>-0.023</td>\n",
              "      <td>2.282</td>\n",
              "      <td>0.346</td>\n",
              "      <td>-0.346</td>\n",
              "      <td>4.44038</td>\n",
              "      <td>0.003848</td>\n",
              "      <td>-0.003848</td>\n",
              "    </tr>\n",
              "    <tr>\n",
              "      <th>1</th>\n",
              "      <td>11 Com b</td>\n",
              "      <td>11 Com</td>\n",
              "      <td>0</td>\n",
              "      <td>2</td>\n",
              "      <td>1</td>\n",
              "      <td>0</td>\n",
              "      <td>NaN</td>\n",
              "      <td>NaN</td>\n",
              "      <td>NaN</td>\n",
              "      <td>NaN</td>\n",
              "      <td>...</td>\n",
              "      <td>-1.9238</td>\n",
              "      <td>4.72307</td>\n",
              "      <td>0.023</td>\n",
              "      <td>-0.023</td>\n",
              "      <td>2.282</td>\n",
              "      <td>0.346</td>\n",
              "      <td>-0.346</td>\n",
              "      <td>4.44038</td>\n",
              "      <td>0.003848</td>\n",
              "      <td>-0.003848</td>\n",
              "    </tr>\n",
              "  </tbody>\n",
              "</table>\n",
              "<p>2 rows × 57 columns</p>\n",
              "</div>\n",
              "      <button class=\"colab-df-convert\" onclick=\"convertToInteractive('df-c62d4064-89ce-4c5c-971b-148f1428af71')\"\n",
              "              title=\"Convert this dataframe to an interactive table.\"\n",
              "              style=\"display:none;\">\n",
              "        \n",
              "  <svg xmlns=\"http://www.w3.org/2000/svg\" height=\"24px\"viewBox=\"0 0 24 24\"\n",
              "       width=\"24px\">\n",
              "    <path d=\"M0 0h24v24H0V0z\" fill=\"none\"/>\n",
              "    <path d=\"M18.56 5.44l.94 2.06.94-2.06 2.06-.94-2.06-.94-.94-2.06-.94 2.06-2.06.94zm-11 1L8.5 8.5l.94-2.06 2.06-.94-2.06-.94L8.5 2.5l-.94 2.06-2.06.94zm10 10l.94 2.06.94-2.06 2.06-.94-2.06-.94-.94-2.06-.94 2.06-2.06.94z\"/><path d=\"M17.41 7.96l-1.37-1.37c-.4-.4-.92-.59-1.43-.59-.52 0-1.04.2-1.43.59L10.3 9.45l-7.72 7.72c-.78.78-.78 2.05 0 2.83L4 21.41c.39.39.9.59 1.41.59.51 0 1.02-.2 1.41-.59l7.78-7.78 2.81-2.81c.8-.78.8-2.07 0-2.86zM5.41 20L4 18.59l7.72-7.72 1.47 1.35L5.41 20z\"/>\n",
              "  </svg>\n",
              "      </button>\n",
              "      \n",
              "  <style>\n",
              "    .colab-df-container {\n",
              "      display:flex;\n",
              "      flex-wrap:wrap;\n",
              "      gap: 12px;\n",
              "    }\n",
              "\n",
              "    .colab-df-convert {\n",
              "      background-color: #E8F0FE;\n",
              "      border: none;\n",
              "      border-radius: 50%;\n",
              "      cursor: pointer;\n",
              "      display: none;\n",
              "      fill: #1967D2;\n",
              "      height: 32px;\n",
              "      padding: 0 0 0 0;\n",
              "      width: 32px;\n",
              "    }\n",
              "\n",
              "    .colab-df-convert:hover {\n",
              "      background-color: #E2EBFA;\n",
              "      box-shadow: 0px 1px 2px rgba(60, 64, 67, 0.3), 0px 1px 3px 1px rgba(60, 64, 67, 0.15);\n",
              "      fill: #174EA6;\n",
              "    }\n",
              "\n",
              "    [theme=dark] .colab-df-convert {\n",
              "      background-color: #3B4455;\n",
              "      fill: #D2E3FC;\n",
              "    }\n",
              "\n",
              "    [theme=dark] .colab-df-convert:hover {\n",
              "      background-color: #434B5C;\n",
              "      box-shadow: 0px 1px 3px 1px rgba(0, 0, 0, 0.15);\n",
              "      filter: drop-shadow(0px 1px 2px rgba(0, 0, 0, 0.3));\n",
              "      fill: #FFFFFF;\n",
              "    }\n",
              "  </style>\n",
              "\n",
              "      <script>\n",
              "        const buttonEl =\n",
              "          document.querySelector('#df-c62d4064-89ce-4c5c-971b-148f1428af71 button.colab-df-convert');\n",
              "        buttonEl.style.display =\n",
              "          google.colab.kernel.accessAllowed ? 'block' : 'none';\n",
              "\n",
              "        async function convertToInteractive(key) {\n",
              "          const element = document.querySelector('#df-c62d4064-89ce-4c5c-971b-148f1428af71');\n",
              "          const dataTable =\n",
              "            await google.colab.kernel.invokeFunction('convertToInteractive',\n",
              "                                                     [key], {});\n",
              "          if (!dataTable) return;\n",
              "\n",
              "          const docLinkHtml = 'Like what you see? Visit the ' +\n",
              "            '<a target=\"_blank\" href=https://colab.research.google.com/notebooks/data_table.ipynb>data table notebook</a>'\n",
              "            + ' to learn more about interactive tables.';\n",
              "          element.innerHTML = '';\n",
              "          dataTable['output_type'] = 'display_data';\n",
              "          await google.colab.output.renderOutput(dataTable, element);\n",
              "          const docLink = document.createElement('div');\n",
              "          docLink.innerHTML = docLinkHtml;\n",
              "          element.appendChild(docLink);\n",
              "        }\n",
              "      </script>\n",
              "    </div>\n",
              "  </div>\n",
              "  "
            ],
            "text/plain": [
              "    pl_name hostname  default_flag  sy_snum  sy_pnum  pl_controv_flag  \\\n",
              "0  11 Com b   11 Com             1        2        1                0   \n",
              "1  11 Com b   11 Com             0        2        1                0   \n",
              "\n",
              "   pl_orbper  pl_orbpererr1  pl_orbpererr2  pl_orbperlim  ...  sy_disterr2  \\\n",
              "0     326.03           0.32          -0.32           0.0  ...      -1.9238   \n",
              "1        NaN            NaN            NaN           NaN  ...      -1.9238   \n",
              "\n",
              "   sy_vmag  sy_vmagerr1  sy_vmagerr2  sy_kmag  sy_kmagerr1  sy_kmagerr2  \\\n",
              "0  4.72307        0.023       -0.023    2.282        0.346       -0.346   \n",
              "1  4.72307        0.023       -0.023    2.282        0.346       -0.346   \n",
              "\n",
              "   sy_gaiamag  sy_gaiamagerr1  sy_gaiamagerr2  \n",
              "0     4.44038        0.003848       -0.003848  \n",
              "1     4.44038        0.003848       -0.003848  \n",
              "\n",
              "[2 rows x 57 columns]"
            ]
          },
          "execution_count": 182,
          "metadata": {},
          "output_type": "execute_result"
        }
      ],
      "source": [
        "df3.head(2)"
      ]
    },
    {
      "cell_type": "code",
      "execution_count": 183,
      "metadata": {
        "colab": {
          "base_uri": "https://localhost:8080/"
        },
        "id": "tcm4hTSEQOwx",
        "outputId": "7586a83f-c3b8-4a34-c781-35d9903d5275"
      },
      "outputs": [
        {
          "name": "stdout",
          "output_type": "stream",
          "text": [
            "(34030, 57)\n"
          ]
        },
        {
          "data": {
            "text/plain": [
              "pl_name                0\n",
              "hostname               0\n",
              "default_flag           0\n",
              "sy_snum                0\n",
              "sy_pnum                0\n",
              "pl_controv_flag        0\n",
              "pl_orbper           2979\n",
              "pl_orbpererr1       4236\n",
              "pl_orbpererr2       4237\n",
              "pl_orbperlim        2979\n",
              "pl_orbsmax         15360\n",
              "pl_orbsmaxlim      12654\n",
              "pl_rade            10566\n",
              "pl_radeerr1        11217\n",
              "pl_radeerr2        11217\n",
              "pl_radelim          7894\n",
              "pl_orbeccenlim     14387\n",
              "pl_insollim        14672\n",
              "pl_eqtlim          15879\n",
              "ttv_flag               0\n",
              "st_teff             2518\n",
              "st_tefferr1         3208\n",
              "st_tefferr2         3449\n",
              "st_tefflim          2518\n",
              "st_rad              2402\n",
              "st_raderr1          7825\n",
              "st_raderr2          7964\n",
              "st_radlim           2402\n",
              "st_mass             5326\n",
              "st_masserr1        10645\n",
              "st_masserr2        10784\n",
              "st_masslim          5326\n",
              "st_met             12653\n",
              "st_meterr1         13307\n",
              "st_meterr2         13307\n",
              "st_metlim          10381\n",
              "st_metratio        12842\n",
              "st_logg             6093\n",
              "st_loggerr1        11246\n",
              "st_loggerr2        11247\n",
              "st_logglim          6093\n",
              "rastr                  0\n",
              "ra                     0\n",
              "decstr                 0\n",
              "dec                    0\n",
              "sy_dist              802\n",
              "sy_disterr1         1626\n",
              "sy_disterr2         1626\n",
              "sy_vmag              554\n",
              "sy_vmagerr1          567\n",
              "sy_vmagerr2          568\n",
              "sy_kmag              573\n",
              "sy_kmagerr1          793\n",
              "sy_kmagerr2          793\n",
              "sy_gaiamag           856\n",
              "sy_gaiamagerr1       856\n",
              "sy_gaiamagerr2       856\n",
              "dtype: int64"
            ]
          },
          "execution_count": 183,
          "metadata": {},
          "output_type": "execute_result"
        }
      ],
      "source": [
        "#欠損値が１個のところは切り捨てる\n",
        "df4 = df3.dropna(subset=['default_flag', 'sy_snum', 'sy_pnum', 'pl_controv_flag', 'ttv_flag', 'rastr', 'ra', 'decstr', 'dec'])\n",
        "print(df4.shape)\n",
        "df4.isnull().sum()"
      ]
    },
    {
      "cell_type": "code",
      "execution_count": 184,
      "metadata": {
        "id": "yCRDdw1j3NB7"
      },
      "outputs": [],
      "source": [
        "df4.to_csv('/content/pl_data.csv')"
      ]
    },
    {
      "cell_type": "code",
      "execution_count": 185,
      "metadata": {
        "colab": {
          "base_uri": "https://localhost:8080/",
          "height": 36
        },
        "id": "wk24S1eh4SYZ",
        "outputId": "b597eed6-d6d5-4003-b2c1-f9a6b0facffc"
      },
      "outputs": [
        {
          "data": {
            "application/vnd.google.colaboratory.intrinsic+json": {
              "type": "string"
            },
            "text/plain": [
              "\"st_metratio_d = pd.get_dummies(df4['st_metratio'], drop_first=True)\\ndf5 = pd.concat([df4, st_metratio_d], axis=1)\\ndf5 = df5.drop('st_metratio', axis=1)\""
            ]
          },
          "execution_count": 185,
          "metadata": {},
          "output_type": "execute_result"
        }
      ],
      "source": [
        "\"\"\"st_metratio_d = pd.get_dummies(df4['st_metratio'], drop_first=True)\n",
        "df5 = pd.concat([df4, st_metratio_d], axis=1)\n",
        "df5 = df5.drop('st_metratio', axis=1)\"\"\""
      ]
    },
    {
      "cell_type": "code",
      "execution_count": 186,
      "metadata": {
        "id": "SUywJGHNNpfM"
      },
      "outputs": [],
      "source": [
        "#検出率が下がってしまったので今回はst_metratio列は切り捨てる\n",
        "df5 = df4.drop(columns='st_metratio')"
      ]
    },
    {
      "cell_type": "code",
      "execution_count": 187,
      "metadata": {
        "colab": {
          "base_uri": "https://localhost:8080/"
        },
        "id": "4boA2FSn59-U",
        "outputId": "180a4586-4966-4954-ed48-d735e1730538"
      },
      "outputs": [
        {
          "data": {
            "text/plain": [
              "0       1900-01-01 12:20:42.910\n",
              "1       1900-01-01 12:20:42.910\n",
              "2       1900-01-01 15:17:05.900\n",
              "3       1900-01-01 15:17:05.900\n",
              "4       1900-01-01 15:17:05.900\n",
              "                  ...          \n",
              "34025   1900-01-01 01:36:47.600\n",
              "34026   1900-01-01 01:36:47.600\n",
              "34027   1900-01-01 11:36:56.930\n",
              "34028   1900-01-01 19:54:14.990\n",
              "34029   1900-01-01 19:54:14.990\n",
              "Name: rastr, Length: 34030, dtype: datetime64[ns]"
            ]
          },
          "execution_count": 187,
          "metadata": {},
          "output_type": "execute_result"
        }
      ],
      "source": [
        "rastr_d = pd.to_datetime(df5['rastr'],  format='%Hh%Mm%S.%fs')\n",
        "rastr_d"
      ]
    },
    {
      "cell_type": "code",
      "execution_count": 188,
      "metadata": {
        "id": "TOlfeILU9MbG"
      },
      "outputs": [],
      "source": [
        "df5 = pd.concat([df5, rastr_d], axis=1)\n",
        "df5 = df5.drop('rastr', axis=1)"
      ]
    },
    {
      "cell_type": "code",
      "execution_count": 189,
      "metadata": {
        "colab": {
          "base_uri": "https://localhost:8080/",
          "height": 72
        },
        "id": "ev9RRJRv9th-",
        "outputId": "f719d16c-ec73-4fe9-d195-f5ce44967189"
      },
      "outputs": [
        {
          "data": {
            "application/vnd.google.colaboratory.intrinsic+json": {
              "type": "string"
            },
            "text/plain": [
              "\"decstr_c = []\\ncount = 0\\n\\nfor i in range(34030):\\n  try:\\n    decstr_c.append(pd.to_datetime(df5.loc[i,'decstr'],  format='+%yd%Mm%S.%fs'))\\n  except ValueError:\\n    try:\\n      decstr_c.append(pd.to_datetime(df5.loc[i,'decstr'],  format='-%yd%Mm%S.%fs'))\\n    except ValueError:\\n      decstr_c.append(pd.to_datetime(df5.loc[i,'decstr'],  format='-%yd%Mm%Ss'))\\n\\ndecstr_d = pd.Series(decstr_c)\""
            ]
          },
          "execution_count": 189,
          "metadata": {},
          "output_type": "execute_result"
        }
      ],
      "source": [
        "#decstr_d = pd.to_datetime(df5['decstr'],  format='+%yd%Mm%S.%fs'or'-%yd%Mm%S.%fs')\n",
        "#decstr_d\n",
        "\n",
        "'''try:\n",
        "  decstr_d = pd.to_datetime(df5['decstr'],  format='+%yd%Mm%S.%fs')\n",
        "except ValueError:\n",
        "  decstr_d = pd.to_datetime(df5['decstr'],  format='-%yd%Mm%S.%fs')'''\n",
        "\n",
        "'''decstr_c = []\n",
        "count = 0\n",
        "\n",
        "for i in range(34030):\n",
        "  try:\n",
        "    decstr_c.append(pd.to_datetime(df5.loc[i,'decstr'],  format='+%yd%Mm%S.%fs'))\n",
        "  except ValueError:\n",
        "    try:\n",
        "      decstr_c.append(pd.to_datetime(df5.loc[i,'decstr'],  format='-%yd%Mm%S.%fs'))\n",
        "    except ValueError:\n",
        "      decstr_c.append(pd.to_datetime(df5.loc[i,'decstr'],  format='-%yd%Mm%Ss'))\n",
        "\n",
        "decstr_d = pd.Series(decstr_c)'''"
      ]
    },
    {
      "cell_type": "code",
      "execution_count": 190,
      "metadata": {
        "id": "a5FiGJmSJzXh"
      },
      "outputs": [],
      "source": [
        "#decstr_d"
      ]
    },
    {
      "cell_type": "code",
      "execution_count": 191,
      "metadata": {
        "id": "DQkEQzwc-Q3g"
      },
      "outputs": [],
      "source": [
        "# COLUMN decstr:         Dec [sexagesimal]\n",
        "#60進法による惑星系の赤緯"
      ]
    },
    {
      "cell_type": "code",
      "execution_count": 192,
      "metadata": {
        "id": "9p8ClGunLhli"
      },
      "outputs": [],
      "source": [
        "#decstrの変換が上手くいかないため今回は捨てる\n",
        "df5 = df5.drop('decstr', axis=1)"
      ]
    },
    {
      "cell_type": "code",
      "execution_count": 193,
      "metadata": {
        "colab": {
          "base_uri": "https://localhost:8080/"
        },
        "id": "AOSokvrMMAB_",
        "outputId": "4128f433-6576-4c8f-c015-fc7206b2e895"
      },
      "outputs": [
        {
          "data": {
            "text/plain": [
              "pl_name                0\n",
              "hostname               0\n",
              "default_flag           0\n",
              "sy_snum                0\n",
              "sy_pnum                0\n",
              "pl_controv_flag        0\n",
              "pl_orbper           2979\n",
              "pl_orbpererr1       4236\n",
              "pl_orbpererr2       4237\n",
              "pl_orbperlim        2979\n",
              "pl_orbsmax         15360\n",
              "pl_orbsmaxlim      12654\n",
              "pl_rade            10566\n",
              "pl_radeerr1        11217\n",
              "pl_radeerr2        11217\n",
              "pl_radelim          7894\n",
              "pl_orbeccenlim     14387\n",
              "pl_insollim        14672\n",
              "pl_eqtlim          15879\n",
              "ttv_flag               0\n",
              "st_teff             2518\n",
              "st_tefferr1         3208\n",
              "st_tefferr2         3449\n",
              "st_tefflim          2518\n",
              "st_rad              2402\n",
              "st_raderr1          7825\n",
              "st_raderr2          7964\n",
              "st_radlim           2402\n",
              "st_mass             5326\n",
              "st_masserr1        10645\n",
              "st_masserr2        10784\n",
              "st_masslim          5326\n",
              "st_met             12653\n",
              "st_meterr1         13307\n",
              "st_meterr2         13307\n",
              "st_metlim          10381\n",
              "st_logg             6093\n",
              "st_loggerr1        11246\n",
              "st_loggerr2        11247\n",
              "st_logglim          6093\n",
              "ra                     0\n",
              "dec                    0\n",
              "sy_dist              802\n",
              "sy_disterr1         1626\n",
              "sy_disterr2         1626\n",
              "sy_vmag              554\n",
              "sy_vmagerr1          567\n",
              "sy_vmagerr2          568\n",
              "sy_kmag              573\n",
              "sy_kmagerr1          793\n",
              "sy_kmagerr2          793\n",
              "sy_gaiamag           856\n",
              "sy_gaiamagerr1       856\n",
              "sy_gaiamagerr2       856\n",
              "dtype: int64"
            ]
          },
          "execution_count": 193,
          "metadata": {},
          "output_type": "execute_result"
        }
      ],
      "source": [
        "df5.isnull().sum()"
      ]
    },
    {
      "cell_type": "code",
      "execution_count": 194,
      "metadata": {
        "colab": {
          "base_uri": "https://localhost:8080/",
          "height": 54
        },
        "id": "adGD1VRHS5of",
        "outputId": "44dc62cb-d6d6-4c8c-ebd3-026df3e577cc"
      },
      "outputs": [
        {
          "data": {
            "application/vnd.google.colaboratory.intrinsic+json": {
              "type": "string"
            },
            "text/plain": [
              "\"non_df = df5.dropna()\\nfrom sklearn.linear_model import LinearRegression\\nx = non_df.loc[:, 'default_flag':'sy_gaiamagerr1']\\nt = non_df['sy_gaiamagerr2']\\nmodel = LinearRegression()\\nmodel.fit(x,t)\""
            ]
          },
          "execution_count": 194,
          "metadata": {},
          "output_type": "execute_result"
        }
      ],
      "source": [
        "'''non_df = df5.dropna()\n",
        "from sklearn.linear_model import LinearRegression\n",
        "x = non_df.loc[:, 'default_flag':'sy_gaiamagerr1']\n",
        "t = non_df['sy_gaiamagerr2']\n",
        "model = LinearRegression()\n",
        "model.fit(x,t)'''"
      ]
    },
    {
      "cell_type": "code",
      "execution_count": 195,
      "metadata": {
        "colab": {
          "base_uri": "https://localhost:8080/",
          "height": 54
        },
        "id": "bBh4qvNxPJTq",
        "outputId": "5f1a8adc-9a5f-429a-c661-85d5d00fea6e"
      },
      "outputs": [
        {
          "data": {
            "application/vnd.google.colaboratory.intrinsic+json": {
              "type": "string"
            },
            "text/plain": [
              "\"condition = df5['sy_gaiamagerr2'].isnull()\\nnon_data = df5.loc[condition]\\nprint(non_data)\\n\\nx = non_data.loc[:, 'default_flag':'sy_gaiamagerr1']\\npred = model.predict(x)\\n\\ndf5.loc[condition, 'sy_gaiamagerr2'] = pred\""
            ]
          },
          "execution_count": 195,
          "metadata": {},
          "output_type": "execute_result"
        }
      ],
      "source": [
        "'''condition = df5['sy_gaiamagerr2'].isnull()\n",
        "non_data = df5.loc[condition]\n",
        "print(non_data)\n",
        "\n",
        "x = non_data.loc[:, 'default_flag':'sy_gaiamagerr1']\n",
        "pred = model.predict(x)\n",
        "\n",
        "df5.loc[condition, 'sy_gaiamagerr2'] = pred'''"
      ]
    },
    {
      "cell_type": "code",
      "execution_count": 196,
      "metadata": {
        "colab": {
          "base_uri": "https://localhost:8080/"
        },
        "id": "1cQILxiRQ7Tx",
        "outputId": "d49d05da-75fb-4d5f-bf8e-c79c827d1e17"
      },
      "outputs": [
        {
          "name": "stderr",
          "output_type": "stream",
          "text": [
            "<ipython-input-196-63dd55d4ec37>:1: FutureWarning: Dropping of nuisance columns in DataFrame reductions (with 'numeric_only=None') is deprecated; in a future version this will raise TypeError.  Select only valid columns before calling the reduction.\n",
            "  df6 = df5.fillna(df5.mean())\n"
          ]
        }
      ],
      "source": [
        "df6 = df5.fillna(df5.mean())"
      ]
    },
    {
      "cell_type": "code",
      "execution_count": 197,
      "metadata": {
        "colab": {
          "base_uri": "https://localhost:8080/",
          "height": 276
        },
        "id": "8nRhayD7RCWw",
        "outputId": "c1f287c4-ff6f-461b-8ac5-63be84e0098f"
      },
      "outputs": [
        {
          "name": "stderr",
          "output_type": "stream",
          "text": [
            "<ipython-input-197-e5cb994867e2>:2: DeprecationWarning: The default dtype for empty Series will be 'object' instead of 'float64' in a future version. Specify a dtype explicitly to silence this warning.\n",
            "  live = pd.Series(live_li,name=\"live\")\n"
          ]
        },
        {
          "data": {
            "text/html": [
              "\n",
              "  <div id=\"df-857d383a-2d7d-45b0-8bf7-557aca43d62c\">\n",
              "    <div class=\"colab-df-container\">\n",
              "      <div>\n",
              "<style scoped>\n",
              "    .dataframe tbody tr th:only-of-type {\n",
              "        vertical-align: middle;\n",
              "    }\n",
              "\n",
              "    .dataframe tbody tr th {\n",
              "        vertical-align: top;\n",
              "    }\n",
              "\n",
              "    .dataframe thead th {\n",
              "        text-align: right;\n",
              "    }\n",
              "</style>\n",
              "<table border=\"1\" class=\"dataframe\">\n",
              "  <thead>\n",
              "    <tr style=\"text-align: right;\">\n",
              "      <th></th>\n",
              "      <th>pl_name</th>\n",
              "      <th>hostname</th>\n",
              "      <th>default_flag</th>\n",
              "      <th>sy_snum</th>\n",
              "      <th>sy_pnum</th>\n",
              "      <th>pl_controv_flag</th>\n",
              "      <th>pl_orbper</th>\n",
              "      <th>pl_orbpererr1</th>\n",
              "      <th>pl_orbpererr2</th>\n",
              "      <th>pl_orbperlim</th>\n",
              "      <th>...</th>\n",
              "      <th>sy_vmag</th>\n",
              "      <th>sy_vmagerr1</th>\n",
              "      <th>sy_vmagerr2</th>\n",
              "      <th>sy_kmag</th>\n",
              "      <th>sy_kmagerr1</th>\n",
              "      <th>sy_kmagerr2</th>\n",
              "      <th>sy_gaiamag</th>\n",
              "      <th>sy_gaiamagerr1</th>\n",
              "      <th>sy_gaiamagerr2</th>\n",
              "      <th>live</th>\n",
              "    </tr>\n",
              "  </thead>\n",
              "  <tbody>\n",
              "    <tr>\n",
              "      <th>0</th>\n",
              "      <td>11 Com b</td>\n",
              "      <td>11 Com</td>\n",
              "      <td>1</td>\n",
              "      <td>2</td>\n",
              "      <td>1</td>\n",
              "      <td>0</td>\n",
              "      <td>326.030000</td>\n",
              "      <td>0.320000</td>\n",
              "      <td>-0.320000</td>\n",
              "      <td>0.000000</td>\n",
              "      <td>...</td>\n",
              "      <td>4.72307</td>\n",
              "      <td>0.023</td>\n",
              "      <td>-0.023</td>\n",
              "      <td>2.282</td>\n",
              "      <td>0.346</td>\n",
              "      <td>-0.346</td>\n",
              "      <td>4.44038</td>\n",
              "      <td>0.003848</td>\n",
              "      <td>-0.003848</td>\n",
              "      <td>NaN</td>\n",
              "    </tr>\n",
              "    <tr>\n",
              "      <th>1</th>\n",
              "      <td>11 Com b</td>\n",
              "      <td>11 Com</td>\n",
              "      <td>0</td>\n",
              "      <td>2</td>\n",
              "      <td>1</td>\n",
              "      <td>0</td>\n",
              "      <td>13663.084629</td>\n",
              "      <td>15968.462645</td>\n",
              "      <td>-3538.776129</td>\n",
              "      <td>-0.000225</td>\n",
              "      <td>...</td>\n",
              "      <td>4.72307</td>\n",
              "      <td>0.023</td>\n",
              "      <td>-0.023</td>\n",
              "      <td>2.282</td>\n",
              "      <td>0.346</td>\n",
              "      <td>-0.346</td>\n",
              "      <td>4.44038</td>\n",
              "      <td>0.003848</td>\n",
              "      <td>-0.003848</td>\n",
              "      <td>NaN</td>\n",
              "    </tr>\n",
              "  </tbody>\n",
              "</table>\n",
              "<p>2 rows × 55 columns</p>\n",
              "</div>\n",
              "      <button class=\"colab-df-convert\" onclick=\"convertToInteractive('df-857d383a-2d7d-45b0-8bf7-557aca43d62c')\"\n",
              "              title=\"Convert this dataframe to an interactive table.\"\n",
              "              style=\"display:none;\">\n",
              "        \n",
              "  <svg xmlns=\"http://www.w3.org/2000/svg\" height=\"24px\"viewBox=\"0 0 24 24\"\n",
              "       width=\"24px\">\n",
              "    <path d=\"M0 0h24v24H0V0z\" fill=\"none\"/>\n",
              "    <path d=\"M18.56 5.44l.94 2.06.94-2.06 2.06-.94-2.06-.94-.94-2.06-.94 2.06-2.06.94zm-11 1L8.5 8.5l.94-2.06 2.06-.94-2.06-.94L8.5 2.5l-.94 2.06-2.06.94zm10 10l.94 2.06.94-2.06 2.06-.94-2.06-.94-.94-2.06-.94 2.06-2.06.94z\"/><path d=\"M17.41 7.96l-1.37-1.37c-.4-.4-.92-.59-1.43-.59-.52 0-1.04.2-1.43.59L10.3 9.45l-7.72 7.72c-.78.78-.78 2.05 0 2.83L4 21.41c.39.39.9.59 1.41.59.51 0 1.02-.2 1.41-.59l7.78-7.78 2.81-2.81c.8-.78.8-2.07 0-2.86zM5.41 20L4 18.59l7.72-7.72 1.47 1.35L5.41 20z\"/>\n",
              "  </svg>\n",
              "      </button>\n",
              "      \n",
              "  <style>\n",
              "    .colab-df-container {\n",
              "      display:flex;\n",
              "      flex-wrap:wrap;\n",
              "      gap: 12px;\n",
              "    }\n",
              "\n",
              "    .colab-df-convert {\n",
              "      background-color: #E8F0FE;\n",
              "      border: none;\n",
              "      border-radius: 50%;\n",
              "      cursor: pointer;\n",
              "      display: none;\n",
              "      fill: #1967D2;\n",
              "      height: 32px;\n",
              "      padding: 0 0 0 0;\n",
              "      width: 32px;\n",
              "    }\n",
              "\n",
              "    .colab-df-convert:hover {\n",
              "      background-color: #E2EBFA;\n",
              "      box-shadow: 0px 1px 2px rgba(60, 64, 67, 0.3), 0px 1px 3px 1px rgba(60, 64, 67, 0.15);\n",
              "      fill: #174EA6;\n",
              "    }\n",
              "\n",
              "    [theme=dark] .colab-df-convert {\n",
              "      background-color: #3B4455;\n",
              "      fill: #D2E3FC;\n",
              "    }\n",
              "\n",
              "    [theme=dark] .colab-df-convert:hover {\n",
              "      background-color: #434B5C;\n",
              "      box-shadow: 0px 1px 3px 1px rgba(0, 0, 0, 0.15);\n",
              "      filter: drop-shadow(0px 1px 2px rgba(0, 0, 0, 0.3));\n",
              "      fill: #FFFFFF;\n",
              "    }\n",
              "  </style>\n",
              "\n",
              "      <script>\n",
              "        const buttonEl =\n",
              "          document.querySelector('#df-857d383a-2d7d-45b0-8bf7-557aca43d62c button.colab-df-convert');\n",
              "        buttonEl.style.display =\n",
              "          google.colab.kernel.accessAllowed ? 'block' : 'none';\n",
              "\n",
              "        async function convertToInteractive(key) {\n",
              "          const element = document.querySelector('#df-857d383a-2d7d-45b0-8bf7-557aca43d62c');\n",
              "          const dataTable =\n",
              "            await google.colab.kernel.invokeFunction('convertToInteractive',\n",
              "                                                     [key], {});\n",
              "          if (!dataTable) return;\n",
              "\n",
              "          const docLinkHtml = 'Like what you see? Visit the ' +\n",
              "            '<a target=\"_blank\" href=https://colab.research.google.com/notebooks/data_table.ipynb>data table notebook</a>'\n",
              "            + ' to learn more about interactive tables.';\n",
              "          element.innerHTML = '';\n",
              "          dataTable['output_type'] = 'display_data';\n",
              "          await google.colab.output.renderOutput(dataTable, element);\n",
              "          const docLink = document.createElement('div');\n",
              "          docLink.innerHTML = docLinkHtml;\n",
              "          element.appendChild(docLink);\n",
              "        }\n",
              "      </script>\n",
              "    </div>\n",
              "  </div>\n",
              "  "
            ],
            "text/plain": [
              "    pl_name hostname  default_flag  sy_snum  sy_pnum  pl_controv_flag  \\\n",
              "0  11 Com b   11 Com             1        2        1                0   \n",
              "1  11 Com b   11 Com             0        2        1                0   \n",
              "\n",
              "      pl_orbper  pl_orbpererr1  pl_orbpererr2  pl_orbperlim  ...  sy_vmag  \\\n",
              "0    326.030000       0.320000      -0.320000      0.000000  ...  4.72307   \n",
              "1  13663.084629   15968.462645   -3538.776129     -0.000225  ...  4.72307   \n",
              "\n",
              "   sy_vmagerr1  sy_vmagerr2  sy_kmag  sy_kmagerr1  sy_kmagerr2  sy_gaiamag  \\\n",
              "0        0.023       -0.023    2.282        0.346       -0.346     4.44038   \n",
              "1        0.023       -0.023    2.282        0.346       -0.346     4.44038   \n",
              "\n",
              "   sy_gaiamagerr1  sy_gaiamagerr2  live  \n",
              "0        0.003848       -0.003848   NaN  \n",
              "1        0.003848       -0.003848   NaN  \n",
              "\n",
              "[2 rows x 55 columns]"
            ]
          },
          "execution_count": 197,
          "metadata": {},
          "output_type": "execute_result"
        }
      ],
      "source": [
        "live_li = []\n",
        "live = pd.Series(live_li,name=\"live\")\n",
        "df7 = pd.concat([df6,live],axis=1)\n",
        "df7.head(2)"
      ]
    },
    {
      "cell_type": "code",
      "execution_count": 198,
      "metadata": {
        "colab": {
          "base_uri": "https://localhost:8080/",
          "height": 240
        },
        "id": "rQXltw20SrOh",
        "outputId": "469a6171-dd75-4429-b562-06cede7aba48"
      },
      "outputs": [
        {
          "data": {
            "text/html": [
              "\n",
              "  <div id=\"df-d6787427-fc68-41bc-abb6-31aee57c3033\">\n",
              "    <div class=\"colab-df-container\">\n",
              "      <div>\n",
              "<style scoped>\n",
              "    .dataframe tbody tr th:only-of-type {\n",
              "        vertical-align: middle;\n",
              "    }\n",
              "\n",
              "    .dataframe tbody tr th {\n",
              "        vertical-align: top;\n",
              "    }\n",
              "\n",
              "    .dataframe thead th {\n",
              "        text-align: right;\n",
              "    }\n",
              "</style>\n",
              "<table border=\"1\" class=\"dataframe\">\n",
              "  <thead>\n",
              "    <tr style=\"text-align: right;\">\n",
              "      <th></th>\n",
              "      <th>pl_name</th>\n",
              "      <th>hostname</th>\n",
              "      <th>default_flag</th>\n",
              "      <th>sy_snum</th>\n",
              "      <th>sy_pnum</th>\n",
              "      <th>pl_controv_flag</th>\n",
              "      <th>pl_orbper</th>\n",
              "      <th>pl_orbpererr1</th>\n",
              "      <th>pl_orbpererr2</th>\n",
              "      <th>pl_orbperlim</th>\n",
              "      <th>...</th>\n",
              "      <th>sy_vmag</th>\n",
              "      <th>sy_vmagerr1</th>\n",
              "      <th>sy_vmagerr2</th>\n",
              "      <th>sy_kmag</th>\n",
              "      <th>sy_kmagerr1</th>\n",
              "      <th>sy_kmagerr2</th>\n",
              "      <th>sy_gaiamag</th>\n",
              "      <th>sy_gaiamagerr1</th>\n",
              "      <th>sy_gaiamagerr2</th>\n",
              "      <th>live</th>\n",
              "    </tr>\n",
              "  </thead>\n",
              "  <tbody>\n",
              "    <tr>\n",
              "      <th>0</th>\n",
              "      <td>11 Com b</td>\n",
              "      <td>11 Com</td>\n",
              "      <td>1</td>\n",
              "      <td>2</td>\n",
              "      <td>1</td>\n",
              "      <td>0</td>\n",
              "      <td>326.030000</td>\n",
              "      <td>0.320000</td>\n",
              "      <td>-0.320000</td>\n",
              "      <td>0.000000</td>\n",
              "      <td>...</td>\n",
              "      <td>4.72307</td>\n",
              "      <td>0.023</td>\n",
              "      <td>-0.023</td>\n",
              "      <td>2.282</td>\n",
              "      <td>0.346</td>\n",
              "      <td>-0.346</td>\n",
              "      <td>4.44038</td>\n",
              "      <td>0.003848</td>\n",
              "      <td>-0.003848</td>\n",
              "      <td>0.0</td>\n",
              "    </tr>\n",
              "    <tr>\n",
              "      <th>1</th>\n",
              "      <td>11 Com b</td>\n",
              "      <td>11 Com</td>\n",
              "      <td>0</td>\n",
              "      <td>2</td>\n",
              "      <td>1</td>\n",
              "      <td>0</td>\n",
              "      <td>13663.084629</td>\n",
              "      <td>15968.462645</td>\n",
              "      <td>-3538.776129</td>\n",
              "      <td>-0.000225</td>\n",
              "      <td>...</td>\n",
              "      <td>4.72307</td>\n",
              "      <td>0.023</td>\n",
              "      <td>-0.023</td>\n",
              "      <td>2.282</td>\n",
              "      <td>0.346</td>\n",
              "      <td>-0.346</td>\n",
              "      <td>4.44038</td>\n",
              "      <td>0.003848</td>\n",
              "      <td>-0.003848</td>\n",
              "      <td>0.0</td>\n",
              "    </tr>\n",
              "  </tbody>\n",
              "</table>\n",
              "<p>2 rows × 55 columns</p>\n",
              "</div>\n",
              "      <button class=\"colab-df-convert\" onclick=\"convertToInteractive('df-d6787427-fc68-41bc-abb6-31aee57c3033')\"\n",
              "              title=\"Convert this dataframe to an interactive table.\"\n",
              "              style=\"display:none;\">\n",
              "        \n",
              "  <svg xmlns=\"http://www.w3.org/2000/svg\" height=\"24px\"viewBox=\"0 0 24 24\"\n",
              "       width=\"24px\">\n",
              "    <path d=\"M0 0h24v24H0V0z\" fill=\"none\"/>\n",
              "    <path d=\"M18.56 5.44l.94 2.06.94-2.06 2.06-.94-2.06-.94-.94-2.06-.94 2.06-2.06.94zm-11 1L8.5 8.5l.94-2.06 2.06-.94-2.06-.94L8.5 2.5l-.94 2.06-2.06.94zm10 10l.94 2.06.94-2.06 2.06-.94-2.06-.94-.94-2.06-.94 2.06-2.06.94z\"/><path d=\"M17.41 7.96l-1.37-1.37c-.4-.4-.92-.59-1.43-.59-.52 0-1.04.2-1.43.59L10.3 9.45l-7.72 7.72c-.78.78-.78 2.05 0 2.83L4 21.41c.39.39.9.59 1.41.59.51 0 1.02-.2 1.41-.59l7.78-7.78 2.81-2.81c.8-.78.8-2.07 0-2.86zM5.41 20L4 18.59l7.72-7.72 1.47 1.35L5.41 20z\"/>\n",
              "  </svg>\n",
              "      </button>\n",
              "      \n",
              "  <style>\n",
              "    .colab-df-container {\n",
              "      display:flex;\n",
              "      flex-wrap:wrap;\n",
              "      gap: 12px;\n",
              "    }\n",
              "\n",
              "    .colab-df-convert {\n",
              "      background-color: #E8F0FE;\n",
              "      border: none;\n",
              "      border-radius: 50%;\n",
              "      cursor: pointer;\n",
              "      display: none;\n",
              "      fill: #1967D2;\n",
              "      height: 32px;\n",
              "      padding: 0 0 0 0;\n",
              "      width: 32px;\n",
              "    }\n",
              "\n",
              "    .colab-df-convert:hover {\n",
              "      background-color: #E2EBFA;\n",
              "      box-shadow: 0px 1px 2px rgba(60, 64, 67, 0.3), 0px 1px 3px 1px rgba(60, 64, 67, 0.15);\n",
              "      fill: #174EA6;\n",
              "    }\n",
              "\n",
              "    [theme=dark] .colab-df-convert {\n",
              "      background-color: #3B4455;\n",
              "      fill: #D2E3FC;\n",
              "    }\n",
              "\n",
              "    [theme=dark] .colab-df-convert:hover {\n",
              "      background-color: #434B5C;\n",
              "      box-shadow: 0px 1px 3px 1px rgba(0, 0, 0, 0.15);\n",
              "      filter: drop-shadow(0px 1px 2px rgba(0, 0, 0, 0.3));\n",
              "      fill: #FFFFFF;\n",
              "    }\n",
              "  </style>\n",
              "\n",
              "      <script>\n",
              "        const buttonEl =\n",
              "          document.querySelector('#df-d6787427-fc68-41bc-abb6-31aee57c3033 button.colab-df-convert');\n",
              "        buttonEl.style.display =\n",
              "          google.colab.kernel.accessAllowed ? 'block' : 'none';\n",
              "\n",
              "        async function convertToInteractive(key) {\n",
              "          const element = document.querySelector('#df-d6787427-fc68-41bc-abb6-31aee57c3033');\n",
              "          const dataTable =\n",
              "            await google.colab.kernel.invokeFunction('convertToInteractive',\n",
              "                                                     [key], {});\n",
              "          if (!dataTable) return;\n",
              "\n",
              "          const docLinkHtml = 'Like what you see? Visit the ' +\n",
              "            '<a target=\"_blank\" href=https://colab.research.google.com/notebooks/data_table.ipynb>data table notebook</a>'\n",
              "            + ' to learn more about interactive tables.';\n",
              "          element.innerHTML = '';\n",
              "          dataTable['output_type'] = 'display_data';\n",
              "          await google.colab.output.renderOutput(dataTable, element);\n",
              "          const docLink = document.createElement('div');\n",
              "          docLink.innerHTML = docLinkHtml;\n",
              "          element.appendChild(docLink);\n",
              "        }\n",
              "      </script>\n",
              "    </div>\n",
              "  </div>\n",
              "  "
            ],
            "text/plain": [
              "    pl_name hostname  default_flag  sy_snum  sy_pnum  pl_controv_flag  \\\n",
              "0  11 Com b   11 Com             1        2        1                0   \n",
              "1  11 Com b   11 Com             0        2        1                0   \n",
              "\n",
              "      pl_orbper  pl_orbpererr1  pl_orbpererr2  pl_orbperlim  ...  sy_vmag  \\\n",
              "0    326.030000       0.320000      -0.320000      0.000000  ...  4.72307   \n",
              "1  13663.084629   15968.462645   -3538.776129     -0.000225  ...  4.72307   \n",
              "\n",
              "   sy_vmagerr1  sy_vmagerr2  sy_kmag  sy_kmagerr1  sy_kmagerr2  sy_gaiamag  \\\n",
              "0        0.023       -0.023    2.282        0.346       -0.346     4.44038   \n",
              "1        0.023       -0.023    2.282        0.346       -0.346     4.44038   \n",
              "\n",
              "   sy_gaiamagerr1  sy_gaiamagerr2  live  \n",
              "0        0.003848       -0.003848   0.0  \n",
              "1        0.003848       -0.003848   0.0  \n",
              "\n",
              "[2 rows x 55 columns]"
            ]
          },
          "execution_count": 198,
          "metadata": {},
          "output_type": "execute_result"
        }
      ],
      "source": [
        "df7 = df7.fillna(0)\n",
        "df7.head(2)"
      ]
    },
    {
      "cell_type": "code",
      "execution_count": 199,
      "metadata": {
        "id": "Ed-ZtN20Tg31"
      },
      "outputs": [],
      "source": [
        "df7.loc[(df7['pl_name'] == \"Teegarden's Star b\"), 'live'] = 1\n",
        "df7.loc[(df7['pl_name'] == \"TOI-700 d\"), 'live'] = 1\n",
        "df7.loc[(df7['pl_name'] == \"Kepler-1649 c\"), 'live'] = 1\n",
        "df7.loc[(df7['pl_name'] == \"TRAPPIST-1 d\"), 'live'] = 1\n",
        "df7.loc[(df7['pl_name'] == \"GJ 1061 d\"), 'live'] = 1\n",
        "df7.loc[(df7['pl_name'] == \"Proxima Cen b\"), 'live'] = 1\n",
        "df7.loc[(df7['pl_name'] == \"K2-72 e\"), 'live'] = 1\n",
        "df7.loc[(df7['pl_name'] == \"GJ 1061 c\"), 'live'] = 1\n",
        "df7.loc[(df7['pl_name'] == \"Ross 128 b\"), 'live'] = 1\n",
        "df7.loc[(df7['pl_name'] == \"Kepler-296 e\"), 'live'] = 1\n",
        "df7.loc[(df7['pl_name'] == \"TRAPPIST-1 e\"), 'live'] = 1\n",
        "df7.loc[(df7['pl_name'] == \"Kepler-442 b\"), 'live'] = 1\n",
        "df7.loc[(df7['pl_name'] == \"Kepler-62 f\"), 'live'] = 1\n",
        "df7.loc[(df7['pl_name'] == \"TRAPPIST-1 f\"), 'live'] = 1\n",
        "df7.loc[(df7['pl_name'] == \"Teegarden's Star c\"), 'live'] = 1\n",
        "df7.loc[(df7['pl_name'] == \"Kepler-1229 b\"), 'live'] = 1\n",
        "df7.loc[(df7['pl_name'] == \"Kepler-186 f\"), 'live'] = 1\n",
        "df7.loc[(df7['pl_name'] == \"TRAPPIST-1 g\"), 'live'] = 1\n",
        "df7.loc[(df7['pl_name'] == \"GJ 3293 d\"), 'live'] = 2\n",
        "df7.loc[(df7['pl_name'] == \"HD 40307 g\"), 'live'] = 2\n",
        "df7.loc[(df7['pl_name'] == \"HD 216520 c\"), 'live'] = 2\n",
        "df7.loc[(df7['pl_name'] == \"HIP 38594 b\"), 'live'] = 2\n",
        "df7.loc[(df7['pl_name'] == \"K2-9 b\"), 'live'] = 2\n",
        "df7.loc[(df7['pl_name'] == \"K2-18 b\"), 'live'] = 2\n",
        "df7.loc[(df7['pl_name'] == \"K2-288 B b\"), 'live'] = 2\n",
        "df7.loc[(df7['pl_name'] == \"K2-332 b\"), 'live'] = 2\n",
        "df7.loc[(df7['pl_name'] == \"LHS 1140 b\"), 'live'] = 2\n",
        "df7.loc[(df7['pl_name'] == \"TOI-2257 b\"), 'live'] = 2\n",
        "df7.loc[(df7['pl_name'] == \"Wolf 1061 c\"), 'live'] = 2\n",
        "df7.loc[(df7['pl_name'] == \"Kepler-22 b\"), 'live'] = 2\n",
        "df7.loc[(df7['pl_name'] == \"Kepler-62 e\"), 'live'] = 2\n",
        "df7.loc[(df7['pl_name'] == \"Kepler-155 c\"), 'live'] = 2\n",
        "df7.loc[(df7['pl_name'] == \"Kepler-174 d\"), 'live'] = 2\n",
        "df7.loc[(df7['pl_name'] == \"Kepler-283 c\"), 'live'] = 2\n",
        "df7.loc[(df7['pl_name'] == \"Kepler-296 f\"), 'live'] = 2\n",
        "df7.loc[(df7['pl_name'] == \"Kepler-440 b\"), 'live'] = 2\n",
        "df7.loc[(df7['pl_name'] == \"Kepler-443 b\"), 'live'] = 2\n",
        "df7.loc[(df7['pl_name'] == \"Kepler-452 b\"), 'live'] = 2\n",
        "df7.loc[(df7['pl_name'] == \"Kepler-705 b\"), 'live'] = 2\n",
        "df7.loc[(df7['pl_name'] == \"Kepler-1410 b\"), 'live'] = 2\n",
        "df7.loc[(df7['pl_name'] == \"Kepler-1540 b\"), 'live'] = 2\n",
        "df7.loc[(df7['pl_name'] == \"Kepler-1544 b\"), 'live'] = 2\n",
        "df7.loc[(df7['pl_name'] == \"Kepler-1606 b\"), 'live'] = 2\n",
        "df7.loc[(df7['pl_name'] == \"Kepler-1638 b\"), 'live'] = 2\n",
        "df7.loc[(df7['pl_name'] == \"Kepler-1652 b\"), 'live'] = 2\n",
        "df7.loc[(df7['pl_name'] == \"Kepler-1653 b\"), 'live'] = 2\n",
        "df7.loc[(df7['pl_name'] == \"Kepler-1701 b\"), 'live'] = 2"
      ]
    },
    {
      "cell_type": "code",
      "execution_count": 200,
      "metadata": {
        "id": "U0h8baNZCCqn"
      },
      "outputs": [],
      "source": [
        "#ここからモデルの作成\n",
        "#ランダムフォレスト"
      ]
    },
    {
      "cell_type": "code",
      "execution_count": 201,
      "metadata": {
        "id": "pYg-HQR8d9Wg"
      },
      "outputs": [],
      "source": [
        "from sklearn.model_selection import train_test_split\n",
        "from sklearn.ensemble import RandomForestClassifier"
      ]
    },
    {
      "cell_type": "code",
      "execution_count": 202,
      "metadata": {
        "id": "QRGQyWhBCR8A"
      },
      "outputs": [],
      "source": [
        "# 訓練データ、検証データ、テストデータに分割"
      ]
    },
    {
      "cell_type": "code",
      "execution_count": 203,
      "metadata": {
        "colab": {
          "base_uri": "https://localhost:8080/"
        },
        "id": "jXpra6JtdTUt",
        "outputId": "5f67c78d-c80a-4c1e-975e-e5573aa9ff24"
      },
      "outputs": [
        {
          "data": {
            "text/plain": [
              "0.9975022039377021"
            ]
          },
          "execution_count": 203,
          "metadata": {},
          "output_type": "execute_result"
        }
      ],
      "source": [
        "x = df7.loc[:,'default_flag':'sy_gaiamagerr2']\n",
        "t = df7['live']\n",
        "\n",
        "x_train, x_test, y_train, y_test = train_test_split(x, t, test_size = 0.2, random_state=0)\n",
        "x_training, x_val, y_training, y_val = train_test_split(x, t, test_size = 0.2, random_state=0)\n",
        "\n",
        "model = RandomForestClassifier(n_estimators=100, random_state=0)\n",
        "model.fit(x_training, y_training)\n",
        "model.score(x_val, y_val)"
      ]
    },
    {
      "cell_type": "code",
      "execution_count": 204,
      "metadata": {
        "id": "FToWHqFpCfXo"
      },
      "outputs": [],
      "source": [
        "#超不均衡データのため正解率が高くなってしまっているため、今回は基準を検出率に変える"
      ]
    },
    {
      "cell_type": "code",
      "execution_count": 205,
      "metadata": {
        "id": "XdYK4oQVsUVc"
      },
      "outputs": [],
      "source": [
        "import numpy as np"
      ]
    },
    {
      "cell_type": "code",
      "execution_count": 206,
      "metadata": {
        "colab": {
          "base_uri": "https://localhost:8080/"
        },
        "id": "nXiI__urqtVT",
        "outputId": "558f9e24-9a15-41bc-c3cb-a26af3536726"
      },
      "outputs": [
        {
          "name": "stdout",
          "output_type": "stream",
          "text": [
            "[0. 1. 2.]\n",
            "[6774   11   21]\n"
          ]
        }
      ],
      "source": [
        "# 検証データから予測されたデータ\n",
        "y_pred = model.predict(x_val)\n",
        "u, counts = np.unique(y_pred, return_counts=True)\n",
        "print(u)\n",
        "print(counts)"
      ]
    },
    {
      "cell_type": "code",
      "execution_count": 207,
      "metadata": {
        "colab": {
          "base_uri": "https://localhost:8080/"
        },
        "id": "gW9YUD8fssvA",
        "outputId": "4d9e11d5-d47f-4c08-bc8b-e123ad9d6f56"
      },
      "outputs": [
        {
          "name": "stdout",
          "output_type": "stream",
          "text": [
            "[0. 1. 2.]\n",
            "[6757   13   36]\n"
          ]
        }
      ],
      "source": [
        "# 正解データ\n",
        "u, counts = np.unique(y_val, return_counts=True)\n",
        "print(u)\n",
        "print(counts)"
      ]
    },
    {
      "cell_type": "code",
      "execution_count": 208,
      "metadata": {
        "colab": {
          "base_uri": "https://localhost:8080/"
        },
        "id": "r_0CzA6sDFHM",
        "outputId": "7d617257-572d-455f-e2d4-c362f33c055e"
      },
      "outputs": [
        {
          "name": "stdout",
          "output_type": "stream",
          "text": [
            "1の検出率: 0.8461538461538461\n",
            "2の検出率: 0.5833333333333334\n",
            "\n"
          ]
        }
      ],
      "source": [
        "y_pred = model.predict(x_val)\n",
        "u, counts = np.unique(y_pred, return_counts=True)\n",
        "u2, counts_2 = np.unique(y_val, return_counts=True)\n",
        "print('1の検出率:', counts[1]/counts_2[1])\n",
        "print('2の検出率:', counts[2]/counts_2[2])\n",
        "print()"
      ]
    },
    {
      "cell_type": "code",
      "execution_count": 209,
      "metadata": {
        "id": "StOk7OMVEH9R"
      },
      "outputs": [],
      "source": [
        "# 検出率が低いため目標値以下のためここからいろいろ試す\n",
        "# 不均衡データのためランダムフォレストモデルに　class_weight='balanced'　を追加してみる"
      ]
    },
    {
      "cell_type": "code",
      "execution_count": 210,
      "metadata": {
        "colab": {
          "base_uri": "https://localhost:8080/"
        },
        "id": "AW9WfloAlipY",
        "outputId": "154e4725-6758-438a-ed59-d9e2c70b6438"
      },
      "outputs": [
        {
          "data": {
            "text/plain": [
              "0.9969144872171614"
            ]
          },
          "execution_count": 210,
          "metadata": {},
          "output_type": "execute_result"
        }
      ],
      "source": [
        "model2 = RandomForestClassifier(n_estimators=100, random_state=0, class_weight='balanced')\n",
        "model2.fit(x_training, y_training)\n",
        "model2.score(x_val, y_val)"
      ]
    },
    {
      "cell_type": "code",
      "execution_count": 211,
      "metadata": {
        "colab": {
          "base_uri": "https://localhost:8080/"
        },
        "id": "gla9jkFLkdTQ",
        "outputId": "f27d1a91-1757-49f8-ad89-2f6620bd7987"
      },
      "outputs": [
        {
          "name": "stdout",
          "output_type": "stream",
          "text": [
            "[0. 1. 2.]\n",
            "[6778    9   19]\n"
          ]
        }
      ],
      "source": [
        "y_pred = model2.predict(x_val)\n",
        "u, counts = np.unique(y_pred, return_counts=True)\n",
        "print(u)\n",
        "print(counts)"
      ]
    },
    {
      "cell_type": "code",
      "execution_count": 212,
      "metadata": {
        "colab": {
          "base_uri": "https://localhost:8080/"
        },
        "id": "6w--hOPotPYC",
        "outputId": "eea942ed-666b-4ad3-f4a6-bb8803ed7540"
      },
      "outputs": [
        {
          "name": "stdout",
          "output_type": "stream",
          "text": [
            "[0. 1. 2.]\n",
            "[6757   13   36]\n"
          ]
        }
      ],
      "source": [
        "u, counts = np.unique(y_val, return_counts=True)\n",
        "print(u)\n",
        "print(counts)"
      ]
    },
    {
      "cell_type": "code",
      "execution_count": 213,
      "metadata": {
        "colab": {
          "base_uri": "https://localhost:8080/"
        },
        "id": "rmj9jp7SDjQF",
        "outputId": "d4c16e5a-70fa-4f8d-d627-393be38c2f9a"
      },
      "outputs": [
        {
          "name": "stdout",
          "output_type": "stream",
          "text": [
            "1の検出率: 0.6923076923076923\n",
            "2の検出率: 0.5277777777777778\n",
            "\n"
          ]
        }
      ],
      "source": [
        "y_pred = model2.predict(x_val)\n",
        "u, counts = np.unique(y_pred, return_counts=True)\n",
        "u2, counts_2 = np.unique(y_val, return_counts=True)\n",
        "print('1の検出率:', counts[1]/counts_2[1])\n",
        "print('2の検出率:', counts[2]/counts_2[2])\n",
        "print()"
      ]
    },
    {
      "cell_type": "code",
      "execution_count": 214,
      "metadata": {
        "id": "OaYRrMF9thzx"
      },
      "outputs": [],
      "source": [
        "# 1の検出率: 0.8461538461538461\n",
        "# 2の検出率: 0.5833333333333334\n",
        "# 上記は前回の検出率\n",
        "# 検出率が下がっているのでclass_weight='balanced'はない方がよさそう"
      ]
    },
    {
      "cell_type": "code",
      "execution_count": 215,
      "metadata": {
        "colab": {
          "base_uri": "https://localhost:8080/"
        },
        "id": "wvoDz_ZytvcV",
        "outputId": "839a742f-76eb-43e8-a3fe-b8a95957ea31"
      },
      "outputs": [
        {
          "name": "stdout",
          "output_type": "stream",
          "text": [
            "[0. 1. 2.]\n",
            "[6773   12   21]\n",
            "[0. 1. 2.]\n",
            "[6757   13   36]\n"
          ]
        }
      ],
      "source": [
        "# ランダムフォレストの木の数の変更\n",
        "model2 = RandomForestClassifier(n_estimators=50, random_state=0)\n",
        "model2.fit(x_training, y_training)\n",
        "model2.score(x_val, y_val)\n",
        "\n",
        "y_pred = model2.predict(x_val)\n",
        "u, counts = np.unique(y_pred, return_counts=True)\n",
        "print(u)\n",
        "print(counts)\n",
        "\n",
        "u, counts = np.unique(y_val, return_counts=True)\n",
        "print(u)\n",
        "print(counts)"
      ]
    },
    {
      "cell_type": "code",
      "execution_count": 216,
      "metadata": {
        "colab": {
          "base_uri": "https://localhost:8080/"
        },
        "id": "o_f5bElVuNbm",
        "outputId": "dc63ba65-6ce8-4257-8acb-6b2458b58edf"
      },
      "outputs": [
        {
          "name": "stdout",
          "output_type": "stream",
          "text": [
            "深さ: 10\n",
            "1の検出率: 0.7692307692307693\n",
            "2の検出率: 0.4444444444444444\n",
            "\n",
            "深さ: 20\n",
            "1の検出率: 0.8461538461538461\n",
            "2の検出率: 0.5\n",
            "\n",
            "深さ: 30\n",
            "1の検出率: 0.7692307692307693\n",
            "2の検出率: 0.5277777777777778\n",
            "\n",
            "深さ: 40\n",
            "1の検出率: 0.9230769230769231\n",
            "2の検出率: 0.5277777777777778\n",
            "\n",
            "深さ: 50\n",
            "1の検出率: 0.9230769230769231\n",
            "2の検出率: 0.5833333333333334\n",
            "\n",
            "深さ: 60\n",
            "1の検出率: 0.9230769230769231\n",
            "2の検出率: 0.5833333333333334\n",
            "\n",
            "深さ: 70\n",
            "1の検出率: 0.8461538461538461\n",
            "2の検出率: 0.5833333333333334\n",
            "\n",
            "深さ: 80\n",
            "1の検出率: 0.9230769230769231\n",
            "2の検出率: 0.5833333333333334\n",
            "\n",
            "深さ: 90\n",
            "1の検出率: 0.9230769230769231\n",
            "2の検出率: 0.5833333333333334\n",
            "\n",
            "深さ: 100\n",
            "1の検出率: 0.8461538461538461\n",
            "2の検出率: 0.5833333333333334\n",
            "\n"
          ]
        }
      ],
      "source": [
        "# for文を使って木の最適な数を探索\n",
        "for i in range(10, 101, 10):\n",
        "  model2 = RandomForestClassifier(n_estimators=i, random_state=0)\n",
        "  model2.fit(x_training, y_training)\n",
        "  model2.score(x_val, y_val)\n",
        "\n",
        "  y_pred = model2.predict(x_val)\n",
        "  u, counts = np.unique(y_pred, return_counts=True)\n",
        "  u2, counts_2 = np.unique(y_val, return_counts=True)\n",
        "  print('深さ:',i)\n",
        "  print('1の検出率:', counts[1]/counts_2[1])\n",
        "  print('2の検出率:', counts[2]/counts_2[2])\n",
        "  print()"
      ]
    },
    {
      "cell_type": "code",
      "execution_count": 217,
      "metadata": {
        "id": "PugqNpZOwkjC"
      },
      "outputs": [],
      "source": [
        "# 木の数が50以降は2の検出率が変わらない\n",
        "# 深さ80,90が最も検出率が高い"
      ]
    },
    {
      "cell_type": "code",
      "execution_count": 218,
      "metadata": {
        "colab": {
          "base_uri": "https://localhost:8080/"
        },
        "id": "_TAWs02jw1Ma",
        "outputId": "a4966cad-0c71-47de-baed-09283c0bdde0"
      },
      "outputs": [
        {
          "name": "stdout",
          "output_type": "stream",
          "text": [
            "深さ: 10\n",
            "1の検出率: 0.6153846153846154\n",
            "2の検出率: 0.5\n",
            "\n",
            "深さ: 20\n",
            "1の検出率: 0.5384615384615384\n",
            "2の検出率: 0.5555555555555556\n",
            "\n",
            "深さ: 30\n",
            "1の検出率: 0.5384615384615384\n",
            "2の検出率: 0.6111111111111112\n",
            "\n",
            "深さ: 40\n",
            "1の検出率: 0.6153846153846154\n",
            "2の検出率: 0.5277777777777778\n",
            "\n",
            "深さ: 50\n",
            "1の検出率: 0.6153846153846154\n",
            "2の検出率: 0.5277777777777778\n",
            "\n",
            "深さ: 60\n",
            "1の検出率: 0.6923076923076923\n",
            "2の検出率: 0.5277777777777778\n",
            "\n",
            "深さ: 70\n",
            "1の検出率: 0.6923076923076923\n",
            "2の検出率: 0.5277777777777778\n",
            "\n",
            "深さ: 80\n",
            "1の検出率: 0.6923076923076923\n",
            "2の検出率: 0.5277777777777778\n",
            "\n",
            "深さ: 90\n",
            "1の検出率: 0.6923076923076923\n",
            "2の検出率: 0.5277777777777778\n",
            "\n",
            "深さ: 100\n",
            "1の検出率: 0.6923076923076923\n",
            "2の検出率: 0.5277777777777778\n",
            "\n"
          ]
        }
      ],
      "source": [
        "# 念のため class_weight='balanced' を追加して検証してみる\n",
        "for i in range(10, 101, 10):\n",
        "  model2 = RandomForestClassifier(n_estimators=i, random_state=0, class_weight='balanced')\n",
        "  model2.fit(x_training, y_training)\n",
        "  model2.score(x_val, y_val)\n",
        "\n",
        "  y_pred = model2.predict(x_val)\n",
        "  u, counts = np.unique(y_pred, return_counts=True)\n",
        "  u2, counts_2 = np.unique(y_val, return_counts=True)\n",
        "  print('深さ:',i)\n",
        "  print('1の検出率:', counts[1]/counts_2[1])\n",
        "  print('2の検出率:', counts[2]/counts_2[2])\n",
        "  print()"
      ]
    },
    {
      "cell_type": "code",
      "execution_count": 219,
      "metadata": {
        "id": "hmk8GZonxDSe"
      },
      "outputs": [],
      "source": [
        "#木の数を変えてもclass_weight='balanced'は検出率が低い"
      ]
    },
    {
      "cell_type": "code",
      "execution_count": 220,
      "metadata": {
        "colab": {
          "base_uri": "https://localhost:8080/"
        },
        "id": "E9UQX5fbxQJ7",
        "outputId": "f0f19806-3ef7-4f4f-ef43-d625e0be2dae"
      },
      "outputs": [
        {
          "data": {
            "text/plain": [
              "0.7966543216683537"
            ]
          },
          "execution_count": 220,
          "metadata": {},
          "output_type": "execute_result"
        }
      ],
      "source": [
        "# 2の検出率を上げるためにアダブーストを使用してみる\n",
        "from sklearn.ensemble import AdaBoostRegressor\n",
        "from sklearn.tree import DecisionTreeRegressor\n",
        "\n",
        "base = DecisionTreeRegressor(random_state=0,max_depth=10)\n",
        "\n",
        "model3 = AdaBoostRegressor(random_state=0, n_estimators=100, estimator=base)\n",
        "model3.fit(x_training, y_training)\n",
        "model3.score(x_val, y_val)"
      ]
    },
    {
      "cell_type": "code",
      "execution_count": 221,
      "metadata": {
        "id": "-mxTyaR-Potz"
      },
      "outputs": [],
      "source": [
        "# スコアが役80%…\n",
        "# ランダムフォレストに比べて下がった…"
      ]
    },
    {
      "cell_type": "code",
      "execution_count": 222,
      "metadata": {
        "colab": {
          "base_uri": "https://localhost:8080/"
        },
        "id": "YGx4gBbWzLJe",
        "outputId": "4932e455-4aab-4cbd-9832-66c6eb2e433e"
      },
      "outputs": [
        {
          "name": "stdout",
          "output_type": "stream",
          "text": [
            "深さ: 100\n",
            "1の検出率: 0.23076923076923078\n",
            "2の検出率: 0.027777777777777776\n",
            "\n"
          ]
        }
      ],
      "source": [
        "y_pred = model3.predict(x_val)\n",
        "u, counts = np.unique(y_pred, return_counts=True)\n",
        "u2, counts_2 = np.unique(y_val, return_counts=True)\n",
        "print('深さ:',i)\n",
        "print('1の検出率:', counts[1]/counts_2[1])\n",
        "print('2の検出率:', counts[2]/counts_2[2])\n",
        "print()"
      ]
    },
    {
      "cell_type": "code",
      "execution_count": 223,
      "metadata": {
        "id": "0oGQayMkP4TN"
      },
      "outputs": [],
      "source": [
        "# 検出率も低いためランダムフォレストに比べてよいモデルではない"
      ]
    },
    {
      "cell_type": "code",
      "execution_count": 224,
      "metadata": {
        "colab": {
          "base_uri": "https://localhost:8080/",
          "height": 108
        },
        "id": "GPL1Vdrzz2dG",
        "outputId": "948b770d-008d-41e9-f44a-f4df4ccfb1dc"
      },
      "outputs": [
        {
          "data": {
            "application/vnd.google.colaboratory.intrinsic+json": {
              "type": "string"
            },
            "text/plain": [
              "\"for i in range(1,51,5):\\n  print('木の深さ',i,'-------------------------------------------------')\\n  for j in range(10, 101, 10):\\n    base = DecisionTreeRegressor(random_state=0,max_depth=i)\\n    model3 = AdaBoostRegressor(random_state=0, n_estimators=j, estimator=base)\\n    model3.fit(x_training, y_training)\\n    model3.score(x_val, y_val)\\n    y_pred = model3.predict(x_val)\\n    u, counts = np.unique(y_pred, return_counts=True)\\n    u2, counts_2 = np.unique(y_val, return_counts=True)\\n    print('深さ:',j)\\n    print('1の検出率:', counts[1]/counts_2[1])\\n    try:\\n      print('2の検出率:', counts[2]/counts_2[2])\\n    except IndexError:\\n      pass\\n    print()\""
            ]
          },
          "execution_count": 224,
          "metadata": {},
          "output_type": "execute_result"
        }
      ],
      "source": [
        "# 木の深さと木の数を二重ループで探索\n",
        "\"\"\"for i in range(1,51,5):\n",
        "  print('木の深さ',i,'-------------------------------------------------')\n",
        "  for j in range(10, 101, 10):\n",
        "    base = DecisionTreeRegressor(random_state=0,max_depth=i)\n",
        "    model3 = AdaBoostRegressor(random_state=0, n_estimators=j, estimator=base)\n",
        "    model3.fit(x_training, y_training)\n",
        "    model3.score(x_val, y_val)\n",
        "    y_pred = model3.predict(x_val)\n",
        "    u, counts = np.unique(y_pred, return_counts=True)\n",
        "    u2, counts_2 = np.unique(y_val, return_counts=True)\n",
        "    print('深さ:',j)\n",
        "    print('1の検出率:', counts[1]/counts_2[1])\n",
        "    try:\n",
        "      print('2の検出率:', counts[2]/counts_2[2])\n",
        "    except IndexError:\n",
        "      pass\n",
        "    print()\"\"\""
      ]
    },
    {
      "cell_type": "code",
      "execution_count": 225,
      "metadata": {
        "id": "DZh88NZuzdp4"
      },
      "outputs": [],
      "source": [
        "# 処理が重いため断念…\n",
        "# アダブーストはなし"
      ]
    },
    {
      "cell_type": "code",
      "execution_count": 226,
      "metadata": {
        "id": "5aYRfil4zhfN"
      },
      "outputs": [],
      "source": [
        "# ロジスティック回帰で検証\n",
        "from sklearn.preprocessing import StandardScaler\n",
        "sc = StandardScaler()\n",
        "new_train = sc.fit_transform(x_training)\n",
        "new_val = sc.fit_transform(x_val)"
      ]
    },
    {
      "cell_type": "code",
      "execution_count": 227,
      "metadata": {
        "colab": {
          "base_uri": "https://localhost:8080/"
        },
        "id": "yJyVHJxF4KdG",
        "outputId": "d09f595f-bb06-48c6-f5fb-861cff2f5f18"
      },
      "outputs": [
        {
          "data": {
            "text/plain": [
              "0.9929473993535116"
            ]
          },
          "execution_count": 227,
          "metadata": {},
          "output_type": "execute_result"
        }
      ],
      "source": [
        "from sklearn.linear_model import LogisticRegression\n",
        "model4 = LogisticRegression(random_state=0, C = 0.1, multi_class='auto', solver ='lbfgs')\n",
        "model4.fit(new_train,y_training)\n",
        "model4.score(new_val,y_val)"
      ]
    },
    {
      "cell_type": "code",
      "execution_count": 228,
      "metadata": {
        "id": "wj-2O7fVQkii"
      },
      "outputs": [],
      "source": [
        "# スコアは高い"
      ]
    },
    {
      "cell_type": "code",
      "execution_count": 229,
      "metadata": {
        "colab": {
          "base_uri": "https://localhost:8080/"
        },
        "id": "lo4eMFZ54-a0",
        "outputId": "5af9a2bf-39a6-4735-cccb-dff9dc612464"
      },
      "outputs": [
        {
          "name": "stdout",
          "output_type": "stream",
          "text": [
            "1の検出率: 0.3076923076923077\n",
            "2の検出率: 0.027777777777777776\n"
          ]
        }
      ],
      "source": [
        "y_pred = model4.predict(new_val)\n",
        "u, counts = np.unique(y_pred, return_counts=True)\n",
        "u2, counts_2 = np.unique(y_val, return_counts=True)\n",
        "print('1の検出率:', counts[1]/counts_2[1])\n",
        "print('2の検出率:', counts[2]/counts_2[2])"
      ]
    },
    {
      "cell_type": "code",
      "execution_count": 230,
      "metadata": {
        "id": "ne78OY115S_B"
      },
      "outputs": [],
      "source": [
        "# 低い...........\n",
        "# 検出率がかなり低いためこのモデルは使い物にならない…"
      ]
    },
    {
      "cell_type": "code",
      "execution_count": 231,
      "metadata": {
        "colab": {
          "base_uri": "https://localhost:8080/"
        },
        "id": "NixT4M2H6QcW",
        "outputId": "85896997-3326-43d5-d422-a3567b248db1"
      },
      "outputs": [
        {
          "name": "stdout",
          "output_type": "stream",
          "text": [
            "[0. 1. 2.]\n",
            "[6773   12   21]\n",
            "[0. 1. 2.]\n",
            "[6757   13   36]\n",
            "1の検出率: 0.9230769230769231\n",
            "2の検出率: 0.5833333333333334\n"
          ]
        }
      ],
      "source": [
        "# 今回検証した中で最適だったのはランダムフォレストだったので改めて作成\n",
        "last_model = RandomForestClassifier(n_estimators=80, random_state=0)\n",
        "last_model.fit(x_training, y_training)\n",
        "last_model.score(x_test, y_test)\n",
        "\n",
        "y_pred = last_model.predict(x_test)\n",
        "u, counts = np.unique(y_pred, return_counts=True)\n",
        "print(u)\n",
        "print(counts)\n",
        "u_2, counts_2 = np.unique(y_test, return_counts=True)\n",
        "print(u_2)\n",
        "print(counts_2)\n",
        "print('1の検出率:', counts[1]/counts_2[1])\n",
        "print('2の検出率:', counts[2]/counts_2[2])"
      ]
    },
    {
      "cell_type": "code",
      "execution_count": 232,
      "metadata": {
        "id": "BeWBX0zH5ZAQ"
      },
      "outputs": [],
      "source": [
        "#ランダムフォレストの木の数80,90が一番高い\n",
        "#しかし、2の再現率が58％のため改善の余地あり"
      ]
    },
    {
      "cell_type": "code",
      "execution_count": 235,
      "metadata": {
        "colab": {
          "base_uri": "https://localhost:8080/"
        },
        "id": "Mk27B35fd7u5",
        "outputId": "aba917df-f498-440a-c676-d5f62f3c4ddf"
      },
      "outputs": [
        {
          "name": "stdout",
          "output_type": "stream",
          "text": [
            "              precision    recall  f1-score   support\n",
            "\n",
            "         0.0       1.00      1.00      1.00      6757\n",
            "         1.0       1.00      0.92      0.96        13\n",
            "         2.0       1.00      0.58      0.74        36\n",
            "\n",
            "    accuracy                           1.00      6806\n",
            "   macro avg       1.00      0.84      0.90      6806\n",
            "weighted avg       1.00      1.00      1.00      6806\n",
            "\n"
          ]
        }
      ],
      "source": [
        "from sklearn.metrics import classification_report\n",
        "pred = last_model.predict(x_test)\n",
        "out_put = classification_report(y_pred = pred, y_true = y_test)\n",
        "print(out_put)"
      ]
    },
    {
      "cell_type": "code",
      "execution_count": 249,
      "metadata": {
        "colab": {
          "base_uri": "https://localhost:8080/",
          "height": 1000
        },
        "id": "X7G7SCLifOM9",
        "outputId": "9634719f-5a43-4aa2-ea77-09b2b86d45a1"
      },
      "outputs": [
        {
          "data": {
            "text/html": [
              "\n",
              "  <div id=\"df-8600a70b-19fe-44d9-9962-fdd2fce8efd5\">\n",
              "    <div class=\"colab-df-container\">\n",
              "      <div>\n",
              "<style scoped>\n",
              "    .dataframe tbody tr th:only-of-type {\n",
              "        vertical-align: middle;\n",
              "    }\n",
              "\n",
              "    .dataframe tbody tr th {\n",
              "        vertical-align: top;\n",
              "    }\n",
              "\n",
              "    .dataframe thead th {\n",
              "        text-align: right;\n",
              "    }\n",
              "</style>\n",
              "<table border=\"1\" class=\"dataframe\">\n",
              "  <thead>\n",
              "    <tr style=\"text-align: right;\">\n",
              "      <th></th>\n",
              "      <th>0</th>\n",
              "    </tr>\n",
              "  </thead>\n",
              "  <tbody>\n",
              "    <tr>\n",
              "      <th>default_flag</th>\n",
              "      <td>0.002070</td>\n",
              "    </tr>\n",
              "    <tr>\n",
              "      <th>sy_snum</th>\n",
              "      <td>0.001841</td>\n",
              "    </tr>\n",
              "    <tr>\n",
              "      <th>sy_pnum</th>\n",
              "      <td>0.012785</td>\n",
              "    </tr>\n",
              "    <tr>\n",
              "      <th>pl_controv_flag</th>\n",
              "      <td>0.019198</td>\n",
              "    </tr>\n",
              "    <tr>\n",
              "      <th>pl_orbper</th>\n",
              "      <td>0.102493</td>\n",
              "    </tr>\n",
              "    <tr>\n",
              "      <th>pl_orbpererr1</th>\n",
              "      <td>0.045674</td>\n",
              "    </tr>\n",
              "    <tr>\n",
              "      <th>pl_orbpererr2</th>\n",
              "      <td>0.047747</td>\n",
              "    </tr>\n",
              "    <tr>\n",
              "      <th>pl_orbperlim</th>\n",
              "      <td>0.004518</td>\n",
              "    </tr>\n",
              "    <tr>\n",
              "      <th>pl_orbsmax</th>\n",
              "      <td>0.030424</td>\n",
              "    </tr>\n",
              "    <tr>\n",
              "      <th>pl_orbsmaxlim</th>\n",
              "      <td>0.003253</td>\n",
              "    </tr>\n",
              "    <tr>\n",
              "      <th>pl_rade</th>\n",
              "      <td>0.031641</td>\n",
              "    </tr>\n",
              "    <tr>\n",
              "      <th>pl_radeerr1</th>\n",
              "      <td>0.020382</td>\n",
              "    </tr>\n",
              "    <tr>\n",
              "      <th>pl_radeerr2</th>\n",
              "      <td>0.024798</td>\n",
              "    </tr>\n",
              "    <tr>\n",
              "      <th>pl_radelim</th>\n",
              "      <td>0.002363</td>\n",
              "    </tr>\n",
              "    <tr>\n",
              "      <th>pl_orbeccenlim</th>\n",
              "      <td>0.004712</td>\n",
              "    </tr>\n",
              "    <tr>\n",
              "      <th>pl_insollim</th>\n",
              "      <td>0.000000</td>\n",
              "    </tr>\n",
              "    <tr>\n",
              "      <th>pl_eqtlim</th>\n",
              "      <td>0.002863</td>\n",
              "    </tr>\n",
              "    <tr>\n",
              "      <th>ttv_flag</th>\n",
              "      <td>0.002521</td>\n",
              "    </tr>\n",
              "    <tr>\n",
              "      <th>st_teff</th>\n",
              "      <td>0.036490</td>\n",
              "    </tr>\n",
              "    <tr>\n",
              "      <th>st_tefferr1</th>\n",
              "      <td>0.016432</td>\n",
              "    </tr>\n",
              "    <tr>\n",
              "      <th>st_tefferr2</th>\n",
              "      <td>0.014168</td>\n",
              "    </tr>\n",
              "    <tr>\n",
              "      <th>st_tefflim</th>\n",
              "      <td>0.000653</td>\n",
              "    </tr>\n",
              "    <tr>\n",
              "      <th>st_rad</th>\n",
              "      <td>0.028038</td>\n",
              "    </tr>\n",
              "    <tr>\n",
              "      <th>st_raderr1</th>\n",
              "      <td>0.008386</td>\n",
              "    </tr>\n",
              "    <tr>\n",
              "      <th>st_raderr2</th>\n",
              "      <td>0.006056</td>\n",
              "    </tr>\n",
              "    <tr>\n",
              "      <th>st_radlim</th>\n",
              "      <td>0.000909</td>\n",
              "    </tr>\n",
              "    <tr>\n",
              "      <th>st_mass</th>\n",
              "      <td>0.021193</td>\n",
              "    </tr>\n",
              "    <tr>\n",
              "      <th>st_masserr1</th>\n",
              "      <td>0.008254</td>\n",
              "    </tr>\n",
              "    <tr>\n",
              "      <th>st_masserr2</th>\n",
              "      <td>0.007682</td>\n",
              "    </tr>\n",
              "    <tr>\n",
              "      <th>st_masslim</th>\n",
              "      <td>0.000692</td>\n",
              "    </tr>\n",
              "    <tr>\n",
              "      <th>st_met</th>\n",
              "      <td>0.013195</td>\n",
              "    </tr>\n",
              "    <tr>\n",
              "      <th>st_meterr1</th>\n",
              "      <td>0.008344</td>\n",
              "    </tr>\n",
              "    <tr>\n",
              "      <th>st_meterr2</th>\n",
              "      <td>0.007758</td>\n",
              "    </tr>\n",
              "    <tr>\n",
              "      <th>st_metlim</th>\n",
              "      <td>0.002196</td>\n",
              "    </tr>\n",
              "    <tr>\n",
              "      <th>st_logg</th>\n",
              "      <td>0.018118</td>\n",
              "    </tr>\n",
              "    <tr>\n",
              "      <th>st_loggerr1</th>\n",
              "      <td>0.006721</td>\n",
              "    </tr>\n",
              "    <tr>\n",
              "      <th>st_loggerr2</th>\n",
              "      <td>0.008887</td>\n",
              "    </tr>\n",
              "    <tr>\n",
              "      <th>st_logglim</th>\n",
              "      <td>0.003108</td>\n",
              "    </tr>\n",
              "    <tr>\n",
              "      <th>ra</th>\n",
              "      <td>0.023601</td>\n",
              "    </tr>\n",
              "    <tr>\n",
              "      <th>dec</th>\n",
              "      <td>0.037547</td>\n",
              "    </tr>\n",
              "    <tr>\n",
              "      <th>sy_dist</th>\n",
              "      <td>0.035174</td>\n",
              "    </tr>\n",
              "    <tr>\n",
              "      <th>sy_disterr1</th>\n",
              "      <td>0.030201</td>\n",
              "    </tr>\n",
              "    <tr>\n",
              "      <th>sy_disterr2</th>\n",
              "      <td>0.028364</td>\n",
              "    </tr>\n",
              "    <tr>\n",
              "      <th>sy_vmag</th>\n",
              "      <td>0.037066</td>\n",
              "    </tr>\n",
              "    <tr>\n",
              "      <th>sy_vmagerr1</th>\n",
              "      <td>0.019620</td>\n",
              "    </tr>\n",
              "    <tr>\n",
              "      <th>sy_vmagerr2</th>\n",
              "      <td>0.026731</td>\n",
              "    </tr>\n",
              "    <tr>\n",
              "      <th>sy_kmag</th>\n",
              "      <td>0.031420</td>\n",
              "    </tr>\n",
              "    <tr>\n",
              "      <th>sy_kmagerr1</th>\n",
              "      <td>0.020480</td>\n",
              "    </tr>\n",
              "    <tr>\n",
              "      <th>sy_kmagerr2</th>\n",
              "      <td>0.023454</td>\n",
              "    </tr>\n",
              "    <tr>\n",
              "      <th>sy_gaiamag</th>\n",
              "      <td>0.033982</td>\n",
              "    </tr>\n",
              "    <tr>\n",
              "      <th>sy_gaiamagerr1</th>\n",
              "      <td>0.037790</td>\n",
              "    </tr>\n",
              "    <tr>\n",
              "      <th>sy_gaiamagerr2</th>\n",
              "      <td>0.038006</td>\n",
              "    </tr>\n",
              "  </tbody>\n",
              "</table>\n",
              "</div>\n",
              "      <button class=\"colab-df-convert\" onclick=\"convertToInteractive('df-8600a70b-19fe-44d9-9962-fdd2fce8efd5')\"\n",
              "              title=\"Convert this dataframe to an interactive table.\"\n",
              "              style=\"display:none;\">\n",
              "        \n",
              "  <svg xmlns=\"http://www.w3.org/2000/svg\" height=\"24px\"viewBox=\"0 0 24 24\"\n",
              "       width=\"24px\">\n",
              "    <path d=\"M0 0h24v24H0V0z\" fill=\"none\"/>\n",
              "    <path d=\"M18.56 5.44l.94 2.06.94-2.06 2.06-.94-2.06-.94-.94-2.06-.94 2.06-2.06.94zm-11 1L8.5 8.5l.94-2.06 2.06-.94-2.06-.94L8.5 2.5l-.94 2.06-2.06.94zm10 10l.94 2.06.94-2.06 2.06-.94-2.06-.94-.94-2.06-.94 2.06-2.06.94z\"/><path d=\"M17.41 7.96l-1.37-1.37c-.4-.4-.92-.59-1.43-.59-.52 0-1.04.2-1.43.59L10.3 9.45l-7.72 7.72c-.78.78-.78 2.05 0 2.83L4 21.41c.39.39.9.59 1.41.59.51 0 1.02-.2 1.41-.59l7.78-7.78 2.81-2.81c.8-.78.8-2.07 0-2.86zM5.41 20L4 18.59l7.72-7.72 1.47 1.35L5.41 20z\"/>\n",
              "  </svg>\n",
              "      </button>\n",
              "      \n",
              "  <style>\n",
              "    .colab-df-container {\n",
              "      display:flex;\n",
              "      flex-wrap:wrap;\n",
              "      gap: 12px;\n",
              "    }\n",
              "\n",
              "    .colab-df-convert {\n",
              "      background-color: #E8F0FE;\n",
              "      border: none;\n",
              "      border-radius: 50%;\n",
              "      cursor: pointer;\n",
              "      display: none;\n",
              "      fill: #1967D2;\n",
              "      height: 32px;\n",
              "      padding: 0 0 0 0;\n",
              "      width: 32px;\n",
              "    }\n",
              "\n",
              "    .colab-df-convert:hover {\n",
              "      background-color: #E2EBFA;\n",
              "      box-shadow: 0px 1px 2px rgba(60, 64, 67, 0.3), 0px 1px 3px 1px rgba(60, 64, 67, 0.15);\n",
              "      fill: #174EA6;\n",
              "    }\n",
              "\n",
              "    [theme=dark] .colab-df-convert {\n",
              "      background-color: #3B4455;\n",
              "      fill: #D2E3FC;\n",
              "    }\n",
              "\n",
              "    [theme=dark] .colab-df-convert:hover {\n",
              "      background-color: #434B5C;\n",
              "      box-shadow: 0px 1px 3px 1px rgba(0, 0, 0, 0.15);\n",
              "      filter: drop-shadow(0px 1px 2px rgba(0, 0, 0, 0.3));\n",
              "      fill: #FFFFFF;\n",
              "    }\n",
              "  </style>\n",
              "\n",
              "      <script>\n",
              "        const buttonEl =\n",
              "          document.querySelector('#df-8600a70b-19fe-44d9-9962-fdd2fce8efd5 button.colab-df-convert');\n",
              "        buttonEl.style.display =\n",
              "          google.colab.kernel.accessAllowed ? 'block' : 'none';\n",
              "\n",
              "        async function convertToInteractive(key) {\n",
              "          const element = document.querySelector('#df-8600a70b-19fe-44d9-9962-fdd2fce8efd5');\n",
              "          const dataTable =\n",
              "            await google.colab.kernel.invokeFunction('convertToInteractive',\n",
              "                                                     [key], {});\n",
              "          if (!dataTable) return;\n",
              "\n",
              "          const docLinkHtml = 'Like what you see? Visit the ' +\n",
              "            '<a target=\"_blank\" href=https://colab.research.google.com/notebooks/data_table.ipynb>data table notebook</a>'\n",
              "            + ' to learn more about interactive tables.';\n",
              "          element.innerHTML = '';\n",
              "          dataTable['output_type'] = 'display_data';\n",
              "          await google.colab.output.renderOutput(dataTable, element);\n",
              "          const docLink = document.createElement('div');\n",
              "          docLink.innerHTML = docLinkHtml;\n",
              "          element.appendChild(docLink);\n",
              "        }\n",
              "      </script>\n",
              "    </div>\n",
              "  </div>\n",
              "  "
            ],
            "text/plain": [
              "                        0\n",
              "default_flag     0.002070\n",
              "sy_snum          0.001841\n",
              "sy_pnum          0.012785\n",
              "pl_controv_flag  0.019198\n",
              "pl_orbper        0.102493\n",
              "pl_orbpererr1    0.045674\n",
              "pl_orbpererr2    0.047747\n",
              "pl_orbperlim     0.004518\n",
              "pl_orbsmax       0.030424\n",
              "pl_orbsmaxlim    0.003253\n",
              "pl_rade          0.031641\n",
              "pl_radeerr1      0.020382\n",
              "pl_radeerr2      0.024798\n",
              "pl_radelim       0.002363\n",
              "pl_orbeccenlim   0.004712\n",
              "pl_insollim      0.000000\n",
              "pl_eqtlim        0.002863\n",
              "ttv_flag         0.002521\n",
              "st_teff          0.036490\n",
              "st_tefferr1      0.016432\n",
              "st_tefferr2      0.014168\n",
              "st_tefflim       0.000653\n",
              "st_rad           0.028038\n",
              "st_raderr1       0.008386\n",
              "st_raderr2       0.006056\n",
              "st_radlim        0.000909\n",
              "st_mass          0.021193\n",
              "st_masserr1      0.008254\n",
              "st_masserr2      0.007682\n",
              "st_masslim       0.000692\n",
              "st_met           0.013195\n",
              "st_meterr1       0.008344\n",
              "st_meterr2       0.007758\n",
              "st_metlim        0.002196\n",
              "st_logg          0.018118\n",
              "st_loggerr1      0.006721\n",
              "st_loggerr2      0.008887\n",
              "st_logglim       0.003108\n",
              "ra               0.023601\n",
              "dec              0.037547\n",
              "sy_dist          0.035174\n",
              "sy_disterr1      0.030201\n",
              "sy_disterr2      0.028364\n",
              "sy_vmag          0.037066\n",
              "sy_vmagerr1      0.019620\n",
              "sy_vmagerr2      0.026731\n",
              "sy_kmag          0.031420\n",
              "sy_kmagerr1      0.020480\n",
              "sy_kmagerr2      0.023454\n",
              "sy_gaiamag       0.033982\n",
              "sy_gaiamagerr1   0.037790\n",
              "sy_gaiamagerr2   0.038006"
            ]
          },
          "execution_count": 249,
          "metadata": {},
          "output_type": "execute_result"
        }
      ],
      "source": [
        "pd.DataFrame(last_model.feature_importances_, index = x.columns)"
      ]
    }
  ],
  "metadata": {
    "colab": {
      "provenance": []
    },
    "kernelspec": {
      "display_name": "Python 3",
      "name": "python3"
    },
    "language_info": {
      "name": "python"
    }
  },
  "nbformat": 4,
  "nbformat_minor": 0
}
